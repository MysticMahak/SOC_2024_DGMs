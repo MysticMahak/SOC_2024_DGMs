{
  "nbformat": 4,
  "nbformat_minor": 0,
  "metadata": {
    "colab": {
      "provenance": [],
      "gpuType": "T4"
    },
    "kernelspec": {
      "name": "python3",
      "display_name": "Python 3"
    },
    "language_info": {
      "name": "python"
    },
    "accelerator": "GPU",
    "widgets": {
      "application/vnd.jupyter.widget-state+json": {
        "23faf7030efc463ba3cc67e02964da1e": {
          "model_module": "@jupyter-widgets/controls",
          "model_name": "HBoxModel",
          "model_module_version": "1.5.0",
          "state": {
            "_dom_classes": [],
            "_model_module": "@jupyter-widgets/controls",
            "_model_module_version": "1.5.0",
            "_model_name": "HBoxModel",
            "_view_count": null,
            "_view_module": "@jupyter-widgets/controls",
            "_view_module_version": "1.5.0",
            "_view_name": "HBoxView",
            "box_style": "",
            "children": [
              "IPY_MODEL_053faac0869d44898ede016ab2c73c38",
              "IPY_MODEL_bf27f113794349bc96d25d40d4d61c6d",
              "IPY_MODEL_39ad6ed11bf54d32b9802a9bba9894d8"
            ],
            "layout": "IPY_MODEL_84610b380ce54846bd743ce9331e2a56"
          }
        },
        "053faac0869d44898ede016ab2c73c38": {
          "model_module": "@jupyter-widgets/controls",
          "model_name": "HTMLModel",
          "model_module_version": "1.5.0",
          "state": {
            "_dom_classes": [],
            "_model_module": "@jupyter-widgets/controls",
            "_model_module_version": "1.5.0",
            "_model_name": "HTMLModel",
            "_view_count": null,
            "_view_module": "@jupyter-widgets/controls",
            "_view_module_version": "1.5.0",
            "_view_name": "HTMLView",
            "description": "",
            "description_tooltip": null,
            "layout": "IPY_MODEL_4e25bd91ed8d4bf997158a8a06752090",
            "placeholder": "​",
            "style": "IPY_MODEL_714e92bc62ef4531b8582c9c93a7b9ce",
            "value": "Downloading readme: 100%"
          }
        },
        "bf27f113794349bc96d25d40d4d61c6d": {
          "model_module": "@jupyter-widgets/controls",
          "model_name": "FloatProgressModel",
          "model_module_version": "1.5.0",
          "state": {
            "_dom_classes": [],
            "_model_module": "@jupyter-widgets/controls",
            "_model_module_version": "1.5.0",
            "_model_name": "FloatProgressModel",
            "_view_count": null,
            "_view_module": "@jupyter-widgets/controls",
            "_view_module_version": "1.5.0",
            "_view_name": "ProgressView",
            "bar_style": "success",
            "description": "",
            "description_tooltip": null,
            "layout": "IPY_MODEL_b85d9f9ce2a8485d988528889863257c",
            "max": 5157,
            "min": 0,
            "orientation": "horizontal",
            "style": "IPY_MODEL_6c17ec3fe35843d98ccdffb22cdfbaf5",
            "value": 5157
          }
        },
        "39ad6ed11bf54d32b9802a9bba9894d8": {
          "model_module": "@jupyter-widgets/controls",
          "model_name": "HTMLModel",
          "model_module_version": "1.5.0",
          "state": {
            "_dom_classes": [],
            "_model_module": "@jupyter-widgets/controls",
            "_model_module_version": "1.5.0",
            "_model_name": "HTMLModel",
            "_view_count": null,
            "_view_module": "@jupyter-widgets/controls",
            "_view_module_version": "1.5.0",
            "_view_name": "HTMLView",
            "description": "",
            "description_tooltip": null,
            "layout": "IPY_MODEL_57bbbcc8be684b19a7f632461223af89",
            "placeholder": "​",
            "style": "IPY_MODEL_576b45805cf84516a628cbce6f5cf338",
            "value": " 5.16k/5.16k [00:00&lt;00:00, 260kB/s]"
          }
        },
        "84610b380ce54846bd743ce9331e2a56": {
          "model_module": "@jupyter-widgets/base",
          "model_name": "LayoutModel",
          "model_module_version": "1.2.0",
          "state": {
            "_model_module": "@jupyter-widgets/base",
            "_model_module_version": "1.2.0",
            "_model_name": "LayoutModel",
            "_view_count": null,
            "_view_module": "@jupyter-widgets/base",
            "_view_module_version": "1.2.0",
            "_view_name": "LayoutView",
            "align_content": null,
            "align_items": null,
            "align_self": null,
            "border": null,
            "bottom": null,
            "display": null,
            "flex": null,
            "flex_flow": null,
            "grid_area": null,
            "grid_auto_columns": null,
            "grid_auto_flow": null,
            "grid_auto_rows": null,
            "grid_column": null,
            "grid_gap": null,
            "grid_row": null,
            "grid_template_areas": null,
            "grid_template_columns": null,
            "grid_template_rows": null,
            "height": null,
            "justify_content": null,
            "justify_items": null,
            "left": null,
            "margin": null,
            "max_height": null,
            "max_width": null,
            "min_height": null,
            "min_width": null,
            "object_fit": null,
            "object_position": null,
            "order": null,
            "overflow": null,
            "overflow_x": null,
            "overflow_y": null,
            "padding": null,
            "right": null,
            "top": null,
            "visibility": null,
            "width": null
          }
        },
        "4e25bd91ed8d4bf997158a8a06752090": {
          "model_module": "@jupyter-widgets/base",
          "model_name": "LayoutModel",
          "model_module_version": "1.2.0",
          "state": {
            "_model_module": "@jupyter-widgets/base",
            "_model_module_version": "1.2.0",
            "_model_name": "LayoutModel",
            "_view_count": null,
            "_view_module": "@jupyter-widgets/base",
            "_view_module_version": "1.2.0",
            "_view_name": "LayoutView",
            "align_content": null,
            "align_items": null,
            "align_self": null,
            "border": null,
            "bottom": null,
            "display": null,
            "flex": null,
            "flex_flow": null,
            "grid_area": null,
            "grid_auto_columns": null,
            "grid_auto_flow": null,
            "grid_auto_rows": null,
            "grid_column": null,
            "grid_gap": null,
            "grid_row": null,
            "grid_template_areas": null,
            "grid_template_columns": null,
            "grid_template_rows": null,
            "height": null,
            "justify_content": null,
            "justify_items": null,
            "left": null,
            "margin": null,
            "max_height": null,
            "max_width": null,
            "min_height": null,
            "min_width": null,
            "object_fit": null,
            "object_position": null,
            "order": null,
            "overflow": null,
            "overflow_x": null,
            "overflow_y": null,
            "padding": null,
            "right": null,
            "top": null,
            "visibility": null,
            "width": null
          }
        },
        "714e92bc62ef4531b8582c9c93a7b9ce": {
          "model_module": "@jupyter-widgets/controls",
          "model_name": "DescriptionStyleModel",
          "model_module_version": "1.5.0",
          "state": {
            "_model_module": "@jupyter-widgets/controls",
            "_model_module_version": "1.5.0",
            "_model_name": "DescriptionStyleModel",
            "_view_count": null,
            "_view_module": "@jupyter-widgets/base",
            "_view_module_version": "1.2.0",
            "_view_name": "StyleView",
            "description_width": ""
          }
        },
        "b85d9f9ce2a8485d988528889863257c": {
          "model_module": "@jupyter-widgets/base",
          "model_name": "LayoutModel",
          "model_module_version": "1.2.0",
          "state": {
            "_model_module": "@jupyter-widgets/base",
            "_model_module_version": "1.2.0",
            "_model_name": "LayoutModel",
            "_view_count": null,
            "_view_module": "@jupyter-widgets/base",
            "_view_module_version": "1.2.0",
            "_view_name": "LayoutView",
            "align_content": null,
            "align_items": null,
            "align_self": null,
            "border": null,
            "bottom": null,
            "display": null,
            "flex": null,
            "flex_flow": null,
            "grid_area": null,
            "grid_auto_columns": null,
            "grid_auto_flow": null,
            "grid_auto_rows": null,
            "grid_column": null,
            "grid_gap": null,
            "grid_row": null,
            "grid_template_areas": null,
            "grid_template_columns": null,
            "grid_template_rows": null,
            "height": null,
            "justify_content": null,
            "justify_items": null,
            "left": null,
            "margin": null,
            "max_height": null,
            "max_width": null,
            "min_height": null,
            "min_width": null,
            "object_fit": null,
            "object_position": null,
            "order": null,
            "overflow": null,
            "overflow_x": null,
            "overflow_y": null,
            "padding": null,
            "right": null,
            "top": null,
            "visibility": null,
            "width": null
          }
        },
        "6c17ec3fe35843d98ccdffb22cdfbaf5": {
          "model_module": "@jupyter-widgets/controls",
          "model_name": "ProgressStyleModel",
          "model_module_version": "1.5.0",
          "state": {
            "_model_module": "@jupyter-widgets/controls",
            "_model_module_version": "1.5.0",
            "_model_name": "ProgressStyleModel",
            "_view_count": null,
            "_view_module": "@jupyter-widgets/base",
            "_view_module_version": "1.2.0",
            "_view_name": "StyleView",
            "bar_color": null,
            "description_width": ""
          }
        },
        "57bbbcc8be684b19a7f632461223af89": {
          "model_module": "@jupyter-widgets/base",
          "model_name": "LayoutModel",
          "model_module_version": "1.2.0",
          "state": {
            "_model_module": "@jupyter-widgets/base",
            "_model_module_version": "1.2.0",
            "_model_name": "LayoutModel",
            "_view_count": null,
            "_view_module": "@jupyter-widgets/base",
            "_view_module_version": "1.2.0",
            "_view_name": "LayoutView",
            "align_content": null,
            "align_items": null,
            "align_self": null,
            "border": null,
            "bottom": null,
            "display": null,
            "flex": null,
            "flex_flow": null,
            "grid_area": null,
            "grid_auto_columns": null,
            "grid_auto_flow": null,
            "grid_auto_rows": null,
            "grid_column": null,
            "grid_gap": null,
            "grid_row": null,
            "grid_template_areas": null,
            "grid_template_columns": null,
            "grid_template_rows": null,
            "height": null,
            "justify_content": null,
            "justify_items": null,
            "left": null,
            "margin": null,
            "max_height": null,
            "max_width": null,
            "min_height": null,
            "min_width": null,
            "object_fit": null,
            "object_position": null,
            "order": null,
            "overflow": null,
            "overflow_x": null,
            "overflow_y": null,
            "padding": null,
            "right": null,
            "top": null,
            "visibility": null,
            "width": null
          }
        },
        "576b45805cf84516a628cbce6f5cf338": {
          "model_module": "@jupyter-widgets/controls",
          "model_name": "DescriptionStyleModel",
          "model_module_version": "1.5.0",
          "state": {
            "_model_module": "@jupyter-widgets/controls",
            "_model_module_version": "1.5.0",
            "_model_name": "DescriptionStyleModel",
            "_view_count": null,
            "_view_module": "@jupyter-widgets/base",
            "_view_module_version": "1.2.0",
            "_view_name": "StyleView",
            "description_width": ""
          }
        },
        "adddc7cd1c5c4ad3a026242379b9ae49": {
          "model_module": "@jupyter-widgets/controls",
          "model_name": "HBoxModel",
          "model_module_version": "1.5.0",
          "state": {
            "_dom_classes": [],
            "_model_module": "@jupyter-widgets/controls",
            "_model_module_version": "1.5.0",
            "_model_name": "HBoxModel",
            "_view_count": null,
            "_view_module": "@jupyter-widgets/controls",
            "_view_module_version": "1.5.0",
            "_view_name": "HBoxView",
            "box_style": "",
            "children": [
              "IPY_MODEL_ccc073fe16b74fed99e961140efcb7cd",
              "IPY_MODEL_55311612c6334a57827adba3240cf2dc",
              "IPY_MODEL_625da75fdb3e40a083fe433cc8fd71dd"
            ],
            "layout": "IPY_MODEL_f332e5002f93422a9f24f51e60aee6ca"
          }
        },
        "ccc073fe16b74fed99e961140efcb7cd": {
          "model_module": "@jupyter-widgets/controls",
          "model_name": "HTMLModel",
          "model_module_version": "1.5.0",
          "state": {
            "_dom_classes": [],
            "_model_module": "@jupyter-widgets/controls",
            "_model_module_version": "1.5.0",
            "_model_name": "HTMLModel",
            "_view_count": null,
            "_view_module": "@jupyter-widgets/controls",
            "_view_module_version": "1.5.0",
            "_view_name": "HTMLView",
            "description": "",
            "description_tooltip": null,
            "layout": "IPY_MODEL_da65a2415ffa40a4a2cba08cfbb65870",
            "placeholder": "​",
            "style": "IPY_MODEL_9d3b77ad74c7492da41ccd66dfe3e04f",
            "value": "Downloading data: 100%"
          }
        },
        "55311612c6334a57827adba3240cf2dc": {
          "model_module": "@jupyter-widgets/controls",
          "model_name": "FloatProgressModel",
          "model_module_version": "1.5.0",
          "state": {
            "_dom_classes": [],
            "_model_module": "@jupyter-widgets/controls",
            "_model_module_version": "1.5.0",
            "_model_name": "FloatProgressModel",
            "_view_count": null,
            "_view_module": "@jupyter-widgets/controls",
            "_view_module_version": "1.5.0",
            "_view_name": "ProgressView",
            "bar_style": "success",
            "description": "",
            "description_tooltip": null,
            "layout": "IPY_MODEL_51fe7fe268744dffa422aef0d09701d4",
            "max": 119705255,
            "min": 0,
            "orientation": "horizontal",
            "style": "IPY_MODEL_4656f82e292c48bdaec27c44438daa3a",
            "value": 119705255
          }
        },
        "625da75fdb3e40a083fe433cc8fd71dd": {
          "model_module": "@jupyter-widgets/controls",
          "model_name": "HTMLModel",
          "model_module_version": "1.5.0",
          "state": {
            "_dom_classes": [],
            "_model_module": "@jupyter-widgets/controls",
            "_model_module_version": "1.5.0",
            "_model_name": "HTMLModel",
            "_view_count": null,
            "_view_module": "@jupyter-widgets/controls",
            "_view_module_version": "1.5.0",
            "_view_name": "HTMLView",
            "description": "",
            "description_tooltip": null,
            "layout": "IPY_MODEL_3d6da07e7e48452aa270f5e2b0c00d61",
            "placeholder": "​",
            "style": "IPY_MODEL_4685f8dcb459451980d81a18848e7c4c",
            "value": " 120M/120M [00:01&lt;00:00, 137MB/s]"
          }
        },
        "f332e5002f93422a9f24f51e60aee6ca": {
          "model_module": "@jupyter-widgets/base",
          "model_name": "LayoutModel",
          "model_module_version": "1.2.0",
          "state": {
            "_model_module": "@jupyter-widgets/base",
            "_model_module_version": "1.2.0",
            "_model_name": "LayoutModel",
            "_view_count": null,
            "_view_module": "@jupyter-widgets/base",
            "_view_module_version": "1.2.0",
            "_view_name": "LayoutView",
            "align_content": null,
            "align_items": null,
            "align_self": null,
            "border": null,
            "bottom": null,
            "display": null,
            "flex": null,
            "flex_flow": null,
            "grid_area": null,
            "grid_auto_columns": null,
            "grid_auto_flow": null,
            "grid_auto_rows": null,
            "grid_column": null,
            "grid_gap": null,
            "grid_row": null,
            "grid_template_areas": null,
            "grid_template_columns": null,
            "grid_template_rows": null,
            "height": null,
            "justify_content": null,
            "justify_items": null,
            "left": null,
            "margin": null,
            "max_height": null,
            "max_width": null,
            "min_height": null,
            "min_width": null,
            "object_fit": null,
            "object_position": null,
            "order": null,
            "overflow": null,
            "overflow_x": null,
            "overflow_y": null,
            "padding": null,
            "right": null,
            "top": null,
            "visibility": null,
            "width": null
          }
        },
        "da65a2415ffa40a4a2cba08cfbb65870": {
          "model_module": "@jupyter-widgets/base",
          "model_name": "LayoutModel",
          "model_module_version": "1.2.0",
          "state": {
            "_model_module": "@jupyter-widgets/base",
            "_model_module_version": "1.2.0",
            "_model_name": "LayoutModel",
            "_view_count": null,
            "_view_module": "@jupyter-widgets/base",
            "_view_module_version": "1.2.0",
            "_view_name": "LayoutView",
            "align_content": null,
            "align_items": null,
            "align_self": null,
            "border": null,
            "bottom": null,
            "display": null,
            "flex": null,
            "flex_flow": null,
            "grid_area": null,
            "grid_auto_columns": null,
            "grid_auto_flow": null,
            "grid_auto_rows": null,
            "grid_column": null,
            "grid_gap": null,
            "grid_row": null,
            "grid_template_areas": null,
            "grid_template_columns": null,
            "grid_template_rows": null,
            "height": null,
            "justify_content": null,
            "justify_items": null,
            "left": null,
            "margin": null,
            "max_height": null,
            "max_width": null,
            "min_height": null,
            "min_width": null,
            "object_fit": null,
            "object_position": null,
            "order": null,
            "overflow": null,
            "overflow_x": null,
            "overflow_y": null,
            "padding": null,
            "right": null,
            "top": null,
            "visibility": null,
            "width": null
          }
        },
        "9d3b77ad74c7492da41ccd66dfe3e04f": {
          "model_module": "@jupyter-widgets/controls",
          "model_name": "DescriptionStyleModel",
          "model_module_version": "1.5.0",
          "state": {
            "_model_module": "@jupyter-widgets/controls",
            "_model_module_version": "1.5.0",
            "_model_name": "DescriptionStyleModel",
            "_view_count": null,
            "_view_module": "@jupyter-widgets/base",
            "_view_module_version": "1.2.0",
            "_view_name": "StyleView",
            "description_width": ""
          }
        },
        "51fe7fe268744dffa422aef0d09701d4": {
          "model_module": "@jupyter-widgets/base",
          "model_name": "LayoutModel",
          "model_module_version": "1.2.0",
          "state": {
            "_model_module": "@jupyter-widgets/base",
            "_model_module_version": "1.2.0",
            "_model_name": "LayoutModel",
            "_view_count": null,
            "_view_module": "@jupyter-widgets/base",
            "_view_module_version": "1.2.0",
            "_view_name": "LayoutView",
            "align_content": null,
            "align_items": null,
            "align_self": null,
            "border": null,
            "bottom": null,
            "display": null,
            "flex": null,
            "flex_flow": null,
            "grid_area": null,
            "grid_auto_columns": null,
            "grid_auto_flow": null,
            "grid_auto_rows": null,
            "grid_column": null,
            "grid_gap": null,
            "grid_row": null,
            "grid_template_areas": null,
            "grid_template_columns": null,
            "grid_template_rows": null,
            "height": null,
            "justify_content": null,
            "justify_items": null,
            "left": null,
            "margin": null,
            "max_height": null,
            "max_width": null,
            "min_height": null,
            "min_width": null,
            "object_fit": null,
            "object_position": null,
            "order": null,
            "overflow": null,
            "overflow_x": null,
            "overflow_y": null,
            "padding": null,
            "right": null,
            "top": null,
            "visibility": null,
            "width": null
          }
        },
        "4656f82e292c48bdaec27c44438daa3a": {
          "model_module": "@jupyter-widgets/controls",
          "model_name": "ProgressStyleModel",
          "model_module_version": "1.5.0",
          "state": {
            "_model_module": "@jupyter-widgets/controls",
            "_model_module_version": "1.5.0",
            "_model_name": "ProgressStyleModel",
            "_view_count": null,
            "_view_module": "@jupyter-widgets/base",
            "_view_module_version": "1.2.0",
            "_view_name": "StyleView",
            "bar_color": null,
            "description_width": ""
          }
        },
        "3d6da07e7e48452aa270f5e2b0c00d61": {
          "model_module": "@jupyter-widgets/base",
          "model_name": "LayoutModel",
          "model_module_version": "1.2.0",
          "state": {
            "_model_module": "@jupyter-widgets/base",
            "_model_module_version": "1.2.0",
            "_model_name": "LayoutModel",
            "_view_count": null,
            "_view_module": "@jupyter-widgets/base",
            "_view_module_version": "1.2.0",
            "_view_name": "LayoutView",
            "align_content": null,
            "align_items": null,
            "align_self": null,
            "border": null,
            "bottom": null,
            "display": null,
            "flex": null,
            "flex_flow": null,
            "grid_area": null,
            "grid_auto_columns": null,
            "grid_auto_flow": null,
            "grid_auto_rows": null,
            "grid_column": null,
            "grid_gap": null,
            "grid_row": null,
            "grid_template_areas": null,
            "grid_template_columns": null,
            "grid_template_rows": null,
            "height": null,
            "justify_content": null,
            "justify_items": null,
            "left": null,
            "margin": null,
            "max_height": null,
            "max_width": null,
            "min_height": null,
            "min_width": null,
            "object_fit": null,
            "object_position": null,
            "order": null,
            "overflow": null,
            "overflow_x": null,
            "overflow_y": null,
            "padding": null,
            "right": null,
            "top": null,
            "visibility": null,
            "width": null
          }
        },
        "4685f8dcb459451980d81a18848e7c4c": {
          "model_module": "@jupyter-widgets/controls",
          "model_name": "DescriptionStyleModel",
          "model_module_version": "1.5.0",
          "state": {
            "_model_module": "@jupyter-widgets/controls",
            "_model_module_version": "1.5.0",
            "_model_name": "DescriptionStyleModel",
            "_view_count": null,
            "_view_module": "@jupyter-widgets/base",
            "_view_module_version": "1.2.0",
            "_view_name": "StyleView",
            "description_width": ""
          }
        },
        "98bf95abef6a4835891151d235bdacf8": {
          "model_module": "@jupyter-widgets/controls",
          "model_name": "HBoxModel",
          "model_module_version": "1.5.0",
          "state": {
            "_dom_classes": [],
            "_model_module": "@jupyter-widgets/controls",
            "_model_module_version": "1.5.0",
            "_model_name": "HBoxModel",
            "_view_count": null,
            "_view_module": "@jupyter-widgets/controls",
            "_view_module_version": "1.5.0",
            "_view_name": "HBoxView",
            "box_style": "",
            "children": [
              "IPY_MODEL_378e1df584114da2b8a0f1d17182c33a",
              "IPY_MODEL_4b1cb6c0d5f54773bc1ba1b1e6e0cf96",
              "IPY_MODEL_6be8311c4ec4473885a5501ba4c09618"
            ],
            "layout": "IPY_MODEL_5d3f160335384497ab3cc5a35b5da97e"
          }
        },
        "378e1df584114da2b8a0f1d17182c33a": {
          "model_module": "@jupyter-widgets/controls",
          "model_name": "HTMLModel",
          "model_module_version": "1.5.0",
          "state": {
            "_dom_classes": [],
            "_model_module": "@jupyter-widgets/controls",
            "_model_module_version": "1.5.0",
            "_model_name": "HTMLModel",
            "_view_count": null,
            "_view_module": "@jupyter-widgets/controls",
            "_view_module_version": "1.5.0",
            "_view_name": "HTMLView",
            "description": "",
            "description_tooltip": null,
            "layout": "IPY_MODEL_5449d1eda32f4b6593ea85d93c74d3f5",
            "placeholder": "​",
            "style": "IPY_MODEL_ab4a13965ae94da9923704856831c141",
            "value": "Downloading data: 100%"
          }
        },
        "4b1cb6c0d5f54773bc1ba1b1e6e0cf96": {
          "model_module": "@jupyter-widgets/controls",
          "model_name": "FloatProgressModel",
          "model_module_version": "1.5.0",
          "state": {
            "_dom_classes": [],
            "_model_module": "@jupyter-widgets/controls",
            "_model_module_version": "1.5.0",
            "_model_name": "FloatProgressModel",
            "_view_count": null,
            "_view_module": "@jupyter-widgets/controls",
            "_view_module_version": "1.5.0",
            "_view_name": "ProgressView",
            "bar_style": "success",
            "description": "",
            "description_tooltip": null,
            "layout": "IPY_MODEL_8aca3f18694349dfa2896e6d3aede58e",
            "max": 23940850,
            "min": 0,
            "orientation": "horizontal",
            "style": "IPY_MODEL_caec85a9330a4f06b4057902ef2664d5",
            "value": 23940850
          }
        },
        "6be8311c4ec4473885a5501ba4c09618": {
          "model_module": "@jupyter-widgets/controls",
          "model_name": "HTMLModel",
          "model_module_version": "1.5.0",
          "state": {
            "_dom_classes": [],
            "_model_module": "@jupyter-widgets/controls",
            "_model_module_version": "1.5.0",
            "_model_name": "HTMLModel",
            "_view_count": null,
            "_view_module": "@jupyter-widgets/controls",
            "_view_module_version": "1.5.0",
            "_view_name": "HTMLView",
            "description": "",
            "description_tooltip": null,
            "layout": "IPY_MODEL_173d0bd2dc2f42208d0fc95528b96894",
            "placeholder": "​",
            "style": "IPY_MODEL_8d0250a483184b18bbfe625449317eb2",
            "value": " 23.9M/23.9M [00:00&lt;00:00, 16.5MB/s]"
          }
        },
        "5d3f160335384497ab3cc5a35b5da97e": {
          "model_module": "@jupyter-widgets/base",
          "model_name": "LayoutModel",
          "model_module_version": "1.2.0",
          "state": {
            "_model_module": "@jupyter-widgets/base",
            "_model_module_version": "1.2.0",
            "_model_name": "LayoutModel",
            "_view_count": null,
            "_view_module": "@jupyter-widgets/base",
            "_view_module_version": "1.2.0",
            "_view_name": "LayoutView",
            "align_content": null,
            "align_items": null,
            "align_self": null,
            "border": null,
            "bottom": null,
            "display": null,
            "flex": null,
            "flex_flow": null,
            "grid_area": null,
            "grid_auto_columns": null,
            "grid_auto_flow": null,
            "grid_auto_rows": null,
            "grid_column": null,
            "grid_gap": null,
            "grid_row": null,
            "grid_template_areas": null,
            "grid_template_columns": null,
            "grid_template_rows": null,
            "height": null,
            "justify_content": null,
            "justify_items": null,
            "left": null,
            "margin": null,
            "max_height": null,
            "max_width": null,
            "min_height": null,
            "min_width": null,
            "object_fit": null,
            "object_position": null,
            "order": null,
            "overflow": null,
            "overflow_x": null,
            "overflow_y": null,
            "padding": null,
            "right": null,
            "top": null,
            "visibility": null,
            "width": null
          }
        },
        "5449d1eda32f4b6593ea85d93c74d3f5": {
          "model_module": "@jupyter-widgets/base",
          "model_name": "LayoutModel",
          "model_module_version": "1.2.0",
          "state": {
            "_model_module": "@jupyter-widgets/base",
            "_model_module_version": "1.2.0",
            "_model_name": "LayoutModel",
            "_view_count": null,
            "_view_module": "@jupyter-widgets/base",
            "_view_module_version": "1.2.0",
            "_view_name": "LayoutView",
            "align_content": null,
            "align_items": null,
            "align_self": null,
            "border": null,
            "bottom": null,
            "display": null,
            "flex": null,
            "flex_flow": null,
            "grid_area": null,
            "grid_auto_columns": null,
            "grid_auto_flow": null,
            "grid_auto_rows": null,
            "grid_column": null,
            "grid_gap": null,
            "grid_row": null,
            "grid_template_areas": null,
            "grid_template_columns": null,
            "grid_template_rows": null,
            "height": null,
            "justify_content": null,
            "justify_items": null,
            "left": null,
            "margin": null,
            "max_height": null,
            "max_width": null,
            "min_height": null,
            "min_width": null,
            "object_fit": null,
            "object_position": null,
            "order": null,
            "overflow": null,
            "overflow_x": null,
            "overflow_y": null,
            "padding": null,
            "right": null,
            "top": null,
            "visibility": null,
            "width": null
          }
        },
        "ab4a13965ae94da9923704856831c141": {
          "model_module": "@jupyter-widgets/controls",
          "model_name": "DescriptionStyleModel",
          "model_module_version": "1.5.0",
          "state": {
            "_model_module": "@jupyter-widgets/controls",
            "_model_module_version": "1.5.0",
            "_model_name": "DescriptionStyleModel",
            "_view_count": null,
            "_view_module": "@jupyter-widgets/base",
            "_view_module_version": "1.2.0",
            "_view_name": "StyleView",
            "description_width": ""
          }
        },
        "8aca3f18694349dfa2896e6d3aede58e": {
          "model_module": "@jupyter-widgets/base",
          "model_name": "LayoutModel",
          "model_module_version": "1.2.0",
          "state": {
            "_model_module": "@jupyter-widgets/base",
            "_model_module_version": "1.2.0",
            "_model_name": "LayoutModel",
            "_view_count": null,
            "_view_module": "@jupyter-widgets/base",
            "_view_module_version": "1.2.0",
            "_view_name": "LayoutView",
            "align_content": null,
            "align_items": null,
            "align_self": null,
            "border": null,
            "bottom": null,
            "display": null,
            "flex": null,
            "flex_flow": null,
            "grid_area": null,
            "grid_auto_columns": null,
            "grid_auto_flow": null,
            "grid_auto_rows": null,
            "grid_column": null,
            "grid_gap": null,
            "grid_row": null,
            "grid_template_areas": null,
            "grid_template_columns": null,
            "grid_template_rows": null,
            "height": null,
            "justify_content": null,
            "justify_items": null,
            "left": null,
            "margin": null,
            "max_height": null,
            "max_width": null,
            "min_height": null,
            "min_width": null,
            "object_fit": null,
            "object_position": null,
            "order": null,
            "overflow": null,
            "overflow_x": null,
            "overflow_y": null,
            "padding": null,
            "right": null,
            "top": null,
            "visibility": null,
            "width": null
          }
        },
        "caec85a9330a4f06b4057902ef2664d5": {
          "model_module": "@jupyter-widgets/controls",
          "model_name": "ProgressStyleModel",
          "model_module_version": "1.5.0",
          "state": {
            "_model_module": "@jupyter-widgets/controls",
            "_model_module_version": "1.5.0",
            "_model_name": "ProgressStyleModel",
            "_view_count": null,
            "_view_module": "@jupyter-widgets/base",
            "_view_module_version": "1.2.0",
            "_view_name": "StyleView",
            "bar_color": null,
            "description_width": ""
          }
        },
        "173d0bd2dc2f42208d0fc95528b96894": {
          "model_module": "@jupyter-widgets/base",
          "model_name": "LayoutModel",
          "model_module_version": "1.2.0",
          "state": {
            "_model_module": "@jupyter-widgets/base",
            "_model_module_version": "1.2.0",
            "_model_name": "LayoutModel",
            "_view_count": null,
            "_view_module": "@jupyter-widgets/base",
            "_view_module_version": "1.2.0",
            "_view_name": "LayoutView",
            "align_content": null,
            "align_items": null,
            "align_self": null,
            "border": null,
            "bottom": null,
            "display": null,
            "flex": null,
            "flex_flow": null,
            "grid_area": null,
            "grid_auto_columns": null,
            "grid_auto_flow": null,
            "grid_auto_rows": null,
            "grid_column": null,
            "grid_gap": null,
            "grid_row": null,
            "grid_template_areas": null,
            "grid_template_columns": null,
            "grid_template_rows": null,
            "height": null,
            "justify_content": null,
            "justify_items": null,
            "left": null,
            "margin": null,
            "max_height": null,
            "max_width": null,
            "min_height": null,
            "min_width": null,
            "object_fit": null,
            "object_position": null,
            "order": null,
            "overflow": null,
            "overflow_x": null,
            "overflow_y": null,
            "padding": null,
            "right": null,
            "top": null,
            "visibility": null,
            "width": null
          }
        },
        "8d0250a483184b18bbfe625449317eb2": {
          "model_module": "@jupyter-widgets/controls",
          "model_name": "DescriptionStyleModel",
          "model_module_version": "1.5.0",
          "state": {
            "_model_module": "@jupyter-widgets/controls",
            "_model_module_version": "1.5.0",
            "_model_name": "DescriptionStyleModel",
            "_view_count": null,
            "_view_module": "@jupyter-widgets/base",
            "_view_module_version": "1.2.0",
            "_view_name": "StyleView",
            "description_width": ""
          }
        },
        "b11a62ae046c415999f60e85cf3419cc": {
          "model_module": "@jupyter-widgets/controls",
          "model_name": "HBoxModel",
          "model_module_version": "1.5.0",
          "state": {
            "_dom_classes": [],
            "_model_module": "@jupyter-widgets/controls",
            "_model_module_version": "1.5.0",
            "_model_name": "HBoxModel",
            "_view_count": null,
            "_view_module": "@jupyter-widgets/controls",
            "_view_module_version": "1.5.0",
            "_view_name": "HBoxView",
            "box_style": "",
            "children": [
              "IPY_MODEL_7f36e3b1572f48aea44e5ec539e3fda6",
              "IPY_MODEL_0d36f74978ed462ea8b06964d5327a31",
              "IPY_MODEL_0c6129dc35eb48c4938860e6b88a1d6c"
            ],
            "layout": "IPY_MODEL_2909ab495c9e48d9806de53572c735d5"
          }
        },
        "7f36e3b1572f48aea44e5ec539e3fda6": {
          "model_module": "@jupyter-widgets/controls",
          "model_name": "HTMLModel",
          "model_module_version": "1.5.0",
          "state": {
            "_dom_classes": [],
            "_model_module": "@jupyter-widgets/controls",
            "_model_module_version": "1.5.0",
            "_model_name": "HTMLModel",
            "_view_count": null,
            "_view_module": "@jupyter-widgets/controls",
            "_view_module_version": "1.5.0",
            "_view_name": "HTMLView",
            "description": "",
            "description_tooltip": null,
            "layout": "IPY_MODEL_984147ef459947868b8f5c964a551160",
            "placeholder": "​",
            "style": "IPY_MODEL_c5e6ae2bf6624115ac989f19696342f7",
            "value": "Generating train split: 100%"
          }
        },
        "0d36f74978ed462ea8b06964d5327a31": {
          "model_module": "@jupyter-widgets/controls",
          "model_name": "FloatProgressModel",
          "model_module_version": "1.5.0",
          "state": {
            "_dom_classes": [],
            "_model_module": "@jupyter-widgets/controls",
            "_model_module_version": "1.5.0",
            "_model_name": "FloatProgressModel",
            "_view_count": null,
            "_view_module": "@jupyter-widgets/controls",
            "_view_module_version": "1.5.0",
            "_view_name": "ProgressView",
            "bar_style": "success",
            "description": "",
            "description_tooltip": null,
            "layout": "IPY_MODEL_df0f968de5e347b7bb503b1bcca4100e",
            "max": 50000,
            "min": 0,
            "orientation": "horizontal",
            "style": "IPY_MODEL_9f17a1e8df0d453aac32a2cd6920ed30",
            "value": 50000
          }
        },
        "0c6129dc35eb48c4938860e6b88a1d6c": {
          "model_module": "@jupyter-widgets/controls",
          "model_name": "HTMLModel",
          "model_module_version": "1.5.0",
          "state": {
            "_dom_classes": [],
            "_model_module": "@jupyter-widgets/controls",
            "_model_module_version": "1.5.0",
            "_model_name": "HTMLModel",
            "_view_count": null,
            "_view_module": "@jupyter-widgets/controls",
            "_view_module_version": "1.5.0",
            "_view_name": "HTMLView",
            "description": "",
            "description_tooltip": null,
            "layout": "IPY_MODEL_a04ec135ec804cbeb086f703b331867a",
            "placeholder": "​",
            "style": "IPY_MODEL_5891871a546548879fb52d4020d06408",
            "value": " 50000/50000 [00:00&lt;00:00, 104493.13 examples/s]"
          }
        },
        "2909ab495c9e48d9806de53572c735d5": {
          "model_module": "@jupyter-widgets/base",
          "model_name": "LayoutModel",
          "model_module_version": "1.2.0",
          "state": {
            "_model_module": "@jupyter-widgets/base",
            "_model_module_version": "1.2.0",
            "_model_name": "LayoutModel",
            "_view_count": null,
            "_view_module": "@jupyter-widgets/base",
            "_view_module_version": "1.2.0",
            "_view_name": "LayoutView",
            "align_content": null,
            "align_items": null,
            "align_self": null,
            "border": null,
            "bottom": null,
            "display": null,
            "flex": null,
            "flex_flow": null,
            "grid_area": null,
            "grid_auto_columns": null,
            "grid_auto_flow": null,
            "grid_auto_rows": null,
            "grid_column": null,
            "grid_gap": null,
            "grid_row": null,
            "grid_template_areas": null,
            "grid_template_columns": null,
            "grid_template_rows": null,
            "height": null,
            "justify_content": null,
            "justify_items": null,
            "left": null,
            "margin": null,
            "max_height": null,
            "max_width": null,
            "min_height": null,
            "min_width": null,
            "object_fit": null,
            "object_position": null,
            "order": null,
            "overflow": null,
            "overflow_x": null,
            "overflow_y": null,
            "padding": null,
            "right": null,
            "top": null,
            "visibility": null,
            "width": null
          }
        },
        "984147ef459947868b8f5c964a551160": {
          "model_module": "@jupyter-widgets/base",
          "model_name": "LayoutModel",
          "model_module_version": "1.2.0",
          "state": {
            "_model_module": "@jupyter-widgets/base",
            "_model_module_version": "1.2.0",
            "_model_name": "LayoutModel",
            "_view_count": null,
            "_view_module": "@jupyter-widgets/base",
            "_view_module_version": "1.2.0",
            "_view_name": "LayoutView",
            "align_content": null,
            "align_items": null,
            "align_self": null,
            "border": null,
            "bottom": null,
            "display": null,
            "flex": null,
            "flex_flow": null,
            "grid_area": null,
            "grid_auto_columns": null,
            "grid_auto_flow": null,
            "grid_auto_rows": null,
            "grid_column": null,
            "grid_gap": null,
            "grid_row": null,
            "grid_template_areas": null,
            "grid_template_columns": null,
            "grid_template_rows": null,
            "height": null,
            "justify_content": null,
            "justify_items": null,
            "left": null,
            "margin": null,
            "max_height": null,
            "max_width": null,
            "min_height": null,
            "min_width": null,
            "object_fit": null,
            "object_position": null,
            "order": null,
            "overflow": null,
            "overflow_x": null,
            "overflow_y": null,
            "padding": null,
            "right": null,
            "top": null,
            "visibility": null,
            "width": null
          }
        },
        "c5e6ae2bf6624115ac989f19696342f7": {
          "model_module": "@jupyter-widgets/controls",
          "model_name": "DescriptionStyleModel",
          "model_module_version": "1.5.0",
          "state": {
            "_model_module": "@jupyter-widgets/controls",
            "_model_module_version": "1.5.0",
            "_model_name": "DescriptionStyleModel",
            "_view_count": null,
            "_view_module": "@jupyter-widgets/base",
            "_view_module_version": "1.2.0",
            "_view_name": "StyleView",
            "description_width": ""
          }
        },
        "df0f968de5e347b7bb503b1bcca4100e": {
          "model_module": "@jupyter-widgets/base",
          "model_name": "LayoutModel",
          "model_module_version": "1.2.0",
          "state": {
            "_model_module": "@jupyter-widgets/base",
            "_model_module_version": "1.2.0",
            "_model_name": "LayoutModel",
            "_view_count": null,
            "_view_module": "@jupyter-widgets/base",
            "_view_module_version": "1.2.0",
            "_view_name": "LayoutView",
            "align_content": null,
            "align_items": null,
            "align_self": null,
            "border": null,
            "bottom": null,
            "display": null,
            "flex": null,
            "flex_flow": null,
            "grid_area": null,
            "grid_auto_columns": null,
            "grid_auto_flow": null,
            "grid_auto_rows": null,
            "grid_column": null,
            "grid_gap": null,
            "grid_row": null,
            "grid_template_areas": null,
            "grid_template_columns": null,
            "grid_template_rows": null,
            "height": null,
            "justify_content": null,
            "justify_items": null,
            "left": null,
            "margin": null,
            "max_height": null,
            "max_width": null,
            "min_height": null,
            "min_width": null,
            "object_fit": null,
            "object_position": null,
            "order": null,
            "overflow": null,
            "overflow_x": null,
            "overflow_y": null,
            "padding": null,
            "right": null,
            "top": null,
            "visibility": null,
            "width": null
          }
        },
        "9f17a1e8df0d453aac32a2cd6920ed30": {
          "model_module": "@jupyter-widgets/controls",
          "model_name": "ProgressStyleModel",
          "model_module_version": "1.5.0",
          "state": {
            "_model_module": "@jupyter-widgets/controls",
            "_model_module_version": "1.5.0",
            "_model_name": "ProgressStyleModel",
            "_view_count": null,
            "_view_module": "@jupyter-widgets/base",
            "_view_module_version": "1.2.0",
            "_view_name": "StyleView",
            "bar_color": null,
            "description_width": ""
          }
        },
        "a04ec135ec804cbeb086f703b331867a": {
          "model_module": "@jupyter-widgets/base",
          "model_name": "LayoutModel",
          "model_module_version": "1.2.0",
          "state": {
            "_model_module": "@jupyter-widgets/base",
            "_model_module_version": "1.2.0",
            "_model_name": "LayoutModel",
            "_view_count": null,
            "_view_module": "@jupyter-widgets/base",
            "_view_module_version": "1.2.0",
            "_view_name": "LayoutView",
            "align_content": null,
            "align_items": null,
            "align_self": null,
            "border": null,
            "bottom": null,
            "display": null,
            "flex": null,
            "flex_flow": null,
            "grid_area": null,
            "grid_auto_columns": null,
            "grid_auto_flow": null,
            "grid_auto_rows": null,
            "grid_column": null,
            "grid_gap": null,
            "grid_row": null,
            "grid_template_areas": null,
            "grid_template_columns": null,
            "grid_template_rows": null,
            "height": null,
            "justify_content": null,
            "justify_items": null,
            "left": null,
            "margin": null,
            "max_height": null,
            "max_width": null,
            "min_height": null,
            "min_width": null,
            "object_fit": null,
            "object_position": null,
            "order": null,
            "overflow": null,
            "overflow_x": null,
            "overflow_y": null,
            "padding": null,
            "right": null,
            "top": null,
            "visibility": null,
            "width": null
          }
        },
        "5891871a546548879fb52d4020d06408": {
          "model_module": "@jupyter-widgets/controls",
          "model_name": "DescriptionStyleModel",
          "model_module_version": "1.5.0",
          "state": {
            "_model_module": "@jupyter-widgets/controls",
            "_model_module_version": "1.5.0",
            "_model_name": "DescriptionStyleModel",
            "_view_count": null,
            "_view_module": "@jupyter-widgets/base",
            "_view_module_version": "1.2.0",
            "_view_name": "StyleView",
            "description_width": ""
          }
        },
        "417345354ec54f5f9cd906305b68a954": {
          "model_module": "@jupyter-widgets/controls",
          "model_name": "HBoxModel",
          "model_module_version": "1.5.0",
          "state": {
            "_dom_classes": [],
            "_model_module": "@jupyter-widgets/controls",
            "_model_module_version": "1.5.0",
            "_model_name": "HBoxModel",
            "_view_count": null,
            "_view_module": "@jupyter-widgets/controls",
            "_view_module_version": "1.5.0",
            "_view_name": "HBoxView",
            "box_style": "",
            "children": [
              "IPY_MODEL_ffd85f524fc1402792fdeaa9b0824b26",
              "IPY_MODEL_d424a9ee92ed40d2990f9620b0ca3c80",
              "IPY_MODEL_93eb8e9e08bc4808abaa7f2565c45481"
            ],
            "layout": "IPY_MODEL_c1dd9a92ba384c138969acb72d517462"
          }
        },
        "ffd85f524fc1402792fdeaa9b0824b26": {
          "model_module": "@jupyter-widgets/controls",
          "model_name": "HTMLModel",
          "model_module_version": "1.5.0",
          "state": {
            "_dom_classes": [],
            "_model_module": "@jupyter-widgets/controls",
            "_model_module_version": "1.5.0",
            "_model_name": "HTMLModel",
            "_view_count": null,
            "_view_module": "@jupyter-widgets/controls",
            "_view_module_version": "1.5.0",
            "_view_name": "HTMLView",
            "description": "",
            "description_tooltip": null,
            "layout": "IPY_MODEL_f704f53c59bf428596d6adf393790b6d",
            "placeholder": "​",
            "style": "IPY_MODEL_8b92aa0bc02445479b28931177143be4",
            "value": "Generating test split: 100%"
          }
        },
        "d424a9ee92ed40d2990f9620b0ca3c80": {
          "model_module": "@jupyter-widgets/controls",
          "model_name": "FloatProgressModel",
          "model_module_version": "1.5.0",
          "state": {
            "_dom_classes": [],
            "_model_module": "@jupyter-widgets/controls",
            "_model_module_version": "1.5.0",
            "_model_name": "FloatProgressModel",
            "_view_count": null,
            "_view_module": "@jupyter-widgets/controls",
            "_view_module_version": "1.5.0",
            "_view_name": "ProgressView",
            "bar_style": "success",
            "description": "",
            "description_tooltip": null,
            "layout": "IPY_MODEL_5fa6619ff7e2489183b7d92602266d12",
            "max": 10000,
            "min": 0,
            "orientation": "horizontal",
            "style": "IPY_MODEL_e07349c346bd483e868a9b81834c9dec",
            "value": 10000
          }
        },
        "93eb8e9e08bc4808abaa7f2565c45481": {
          "model_module": "@jupyter-widgets/controls",
          "model_name": "HTMLModel",
          "model_module_version": "1.5.0",
          "state": {
            "_dom_classes": [],
            "_model_module": "@jupyter-widgets/controls",
            "_model_module_version": "1.5.0",
            "_model_name": "HTMLModel",
            "_view_count": null,
            "_view_module": "@jupyter-widgets/controls",
            "_view_module_version": "1.5.0",
            "_view_name": "HTMLView",
            "description": "",
            "description_tooltip": null,
            "layout": "IPY_MODEL_b46704d67a704acfbaabee4b26ba1ac9",
            "placeholder": "​",
            "style": "IPY_MODEL_e82dc6fae2ca4f27bcc10a11a5f4470b",
            "value": " 10000/10000 [00:00&lt;00:00, 54914.52 examples/s]"
          }
        },
        "c1dd9a92ba384c138969acb72d517462": {
          "model_module": "@jupyter-widgets/base",
          "model_name": "LayoutModel",
          "model_module_version": "1.2.0",
          "state": {
            "_model_module": "@jupyter-widgets/base",
            "_model_module_version": "1.2.0",
            "_model_name": "LayoutModel",
            "_view_count": null,
            "_view_module": "@jupyter-widgets/base",
            "_view_module_version": "1.2.0",
            "_view_name": "LayoutView",
            "align_content": null,
            "align_items": null,
            "align_self": null,
            "border": null,
            "bottom": null,
            "display": null,
            "flex": null,
            "flex_flow": null,
            "grid_area": null,
            "grid_auto_columns": null,
            "grid_auto_flow": null,
            "grid_auto_rows": null,
            "grid_column": null,
            "grid_gap": null,
            "grid_row": null,
            "grid_template_areas": null,
            "grid_template_columns": null,
            "grid_template_rows": null,
            "height": null,
            "justify_content": null,
            "justify_items": null,
            "left": null,
            "margin": null,
            "max_height": null,
            "max_width": null,
            "min_height": null,
            "min_width": null,
            "object_fit": null,
            "object_position": null,
            "order": null,
            "overflow": null,
            "overflow_x": null,
            "overflow_y": null,
            "padding": null,
            "right": null,
            "top": null,
            "visibility": null,
            "width": null
          }
        },
        "f704f53c59bf428596d6adf393790b6d": {
          "model_module": "@jupyter-widgets/base",
          "model_name": "LayoutModel",
          "model_module_version": "1.2.0",
          "state": {
            "_model_module": "@jupyter-widgets/base",
            "_model_module_version": "1.2.0",
            "_model_name": "LayoutModel",
            "_view_count": null,
            "_view_module": "@jupyter-widgets/base",
            "_view_module_version": "1.2.0",
            "_view_name": "LayoutView",
            "align_content": null,
            "align_items": null,
            "align_self": null,
            "border": null,
            "bottom": null,
            "display": null,
            "flex": null,
            "flex_flow": null,
            "grid_area": null,
            "grid_auto_columns": null,
            "grid_auto_flow": null,
            "grid_auto_rows": null,
            "grid_column": null,
            "grid_gap": null,
            "grid_row": null,
            "grid_template_areas": null,
            "grid_template_columns": null,
            "grid_template_rows": null,
            "height": null,
            "justify_content": null,
            "justify_items": null,
            "left": null,
            "margin": null,
            "max_height": null,
            "max_width": null,
            "min_height": null,
            "min_width": null,
            "object_fit": null,
            "object_position": null,
            "order": null,
            "overflow": null,
            "overflow_x": null,
            "overflow_y": null,
            "padding": null,
            "right": null,
            "top": null,
            "visibility": null,
            "width": null
          }
        },
        "8b92aa0bc02445479b28931177143be4": {
          "model_module": "@jupyter-widgets/controls",
          "model_name": "DescriptionStyleModel",
          "model_module_version": "1.5.0",
          "state": {
            "_model_module": "@jupyter-widgets/controls",
            "_model_module_version": "1.5.0",
            "_model_name": "DescriptionStyleModel",
            "_view_count": null,
            "_view_module": "@jupyter-widgets/base",
            "_view_module_version": "1.2.0",
            "_view_name": "StyleView",
            "description_width": ""
          }
        },
        "5fa6619ff7e2489183b7d92602266d12": {
          "model_module": "@jupyter-widgets/base",
          "model_name": "LayoutModel",
          "model_module_version": "1.2.0",
          "state": {
            "_model_module": "@jupyter-widgets/base",
            "_model_module_version": "1.2.0",
            "_model_name": "LayoutModel",
            "_view_count": null,
            "_view_module": "@jupyter-widgets/base",
            "_view_module_version": "1.2.0",
            "_view_name": "LayoutView",
            "align_content": null,
            "align_items": null,
            "align_self": null,
            "border": null,
            "bottom": null,
            "display": null,
            "flex": null,
            "flex_flow": null,
            "grid_area": null,
            "grid_auto_columns": null,
            "grid_auto_flow": null,
            "grid_auto_rows": null,
            "grid_column": null,
            "grid_gap": null,
            "grid_row": null,
            "grid_template_areas": null,
            "grid_template_columns": null,
            "grid_template_rows": null,
            "height": null,
            "justify_content": null,
            "justify_items": null,
            "left": null,
            "margin": null,
            "max_height": null,
            "max_width": null,
            "min_height": null,
            "min_width": null,
            "object_fit": null,
            "object_position": null,
            "order": null,
            "overflow": null,
            "overflow_x": null,
            "overflow_y": null,
            "padding": null,
            "right": null,
            "top": null,
            "visibility": null,
            "width": null
          }
        },
        "e07349c346bd483e868a9b81834c9dec": {
          "model_module": "@jupyter-widgets/controls",
          "model_name": "ProgressStyleModel",
          "model_module_version": "1.5.0",
          "state": {
            "_model_module": "@jupyter-widgets/controls",
            "_model_module_version": "1.5.0",
            "_model_name": "ProgressStyleModel",
            "_view_count": null,
            "_view_module": "@jupyter-widgets/base",
            "_view_module_version": "1.2.0",
            "_view_name": "StyleView",
            "bar_color": null,
            "description_width": ""
          }
        },
        "b46704d67a704acfbaabee4b26ba1ac9": {
          "model_module": "@jupyter-widgets/base",
          "model_name": "LayoutModel",
          "model_module_version": "1.2.0",
          "state": {
            "_model_module": "@jupyter-widgets/base",
            "_model_module_version": "1.2.0",
            "_model_name": "LayoutModel",
            "_view_count": null,
            "_view_module": "@jupyter-widgets/base",
            "_view_module_version": "1.2.0",
            "_view_name": "LayoutView",
            "align_content": null,
            "align_items": null,
            "align_self": null,
            "border": null,
            "bottom": null,
            "display": null,
            "flex": null,
            "flex_flow": null,
            "grid_area": null,
            "grid_auto_columns": null,
            "grid_auto_flow": null,
            "grid_auto_rows": null,
            "grid_column": null,
            "grid_gap": null,
            "grid_row": null,
            "grid_template_areas": null,
            "grid_template_columns": null,
            "grid_template_rows": null,
            "height": null,
            "justify_content": null,
            "justify_items": null,
            "left": null,
            "margin": null,
            "max_height": null,
            "max_width": null,
            "min_height": null,
            "min_width": null,
            "object_fit": null,
            "object_position": null,
            "order": null,
            "overflow": null,
            "overflow_x": null,
            "overflow_y": null,
            "padding": null,
            "right": null,
            "top": null,
            "visibility": null,
            "width": null
          }
        },
        "e82dc6fae2ca4f27bcc10a11a5f4470b": {
          "model_module": "@jupyter-widgets/controls",
          "model_name": "DescriptionStyleModel",
          "model_module_version": "1.5.0",
          "state": {
            "_model_module": "@jupyter-widgets/controls",
            "_model_module_version": "1.5.0",
            "_model_name": "DescriptionStyleModel",
            "_view_count": null,
            "_view_module": "@jupyter-widgets/base",
            "_view_module_version": "1.2.0",
            "_view_name": "StyleView",
            "description_width": ""
          }
        },
        "c8caf35dd34c4d1c85e2f9c2f1c8ab87": {
          "model_module": "@jupyter-widgets/controls",
          "model_name": "HBoxModel",
          "model_module_version": "1.5.0",
          "state": {
            "_dom_classes": [],
            "_model_module": "@jupyter-widgets/controls",
            "_model_module_version": "1.5.0",
            "_model_name": "HBoxModel",
            "_view_count": null,
            "_view_module": "@jupyter-widgets/controls",
            "_view_module_version": "1.5.0",
            "_view_name": "HBoxView",
            "box_style": "",
            "children": [
              "IPY_MODEL_5c0672384b204ba5add2e1455231a06d",
              "IPY_MODEL_ed2dd8fc76794d7b94263f7ce614a470",
              "IPY_MODEL_96a510092dcd4804a0658542f2fc3414"
            ],
            "layout": "IPY_MODEL_74428a8e67964ce4b329db8df3c8f6f8"
          }
        },
        "5c0672384b204ba5add2e1455231a06d": {
          "model_module": "@jupyter-widgets/controls",
          "model_name": "HTMLModel",
          "model_module_version": "1.5.0",
          "state": {
            "_dom_classes": [],
            "_model_module": "@jupyter-widgets/controls",
            "_model_module_version": "1.5.0",
            "_model_name": "HTMLModel",
            "_view_count": null,
            "_view_module": "@jupyter-widgets/controls",
            "_view_module_version": "1.5.0",
            "_view_name": "HTMLView",
            "description": "",
            "description_tooltip": null,
            "layout": "IPY_MODEL_c700a21dc00a493ba67c72b89010e52b",
            "placeholder": "​",
            "style": "IPY_MODEL_8e7f6efd0ed04b7ca10da5904a9d3baa",
            "value": "100%"
          }
        },
        "ed2dd8fc76794d7b94263f7ce614a470": {
          "model_module": "@jupyter-widgets/controls",
          "model_name": "FloatProgressModel",
          "model_module_version": "1.5.0",
          "state": {
            "_dom_classes": [],
            "_model_module": "@jupyter-widgets/controls",
            "_model_module_version": "1.5.0",
            "_model_name": "FloatProgressModel",
            "_view_count": null,
            "_view_module": "@jupyter-widgets/controls",
            "_view_module_version": "1.5.0",
            "_view_name": "ProgressView",
            "bar_style": "success",
            "description": "",
            "description_tooltip": null,
            "layout": "IPY_MODEL_89ae7ed08ca04a3e805bbd0e3e6ba6e2",
            "max": 390,
            "min": 0,
            "orientation": "horizontal",
            "style": "IPY_MODEL_efb2a02db8db445db21dc83bb1f1766b",
            "value": 390
          }
        },
        "96a510092dcd4804a0658542f2fc3414": {
          "model_module": "@jupyter-widgets/controls",
          "model_name": "HTMLModel",
          "model_module_version": "1.5.0",
          "state": {
            "_dom_classes": [],
            "_model_module": "@jupyter-widgets/controls",
            "_model_module_version": "1.5.0",
            "_model_name": "HTMLModel",
            "_view_count": null,
            "_view_module": "@jupyter-widgets/controls",
            "_view_module_version": "1.5.0",
            "_view_name": "HTMLView",
            "description": "",
            "description_tooltip": null,
            "layout": "IPY_MODEL_a8bbb4d32c114a6c92c217666a1e05e4",
            "placeholder": "​",
            "style": "IPY_MODEL_5aabe53ff0314811979e4d032dcefa6f",
            "value": " 390/390 [02:03&lt;00:00,  3.17it/s]"
          }
        },
        "74428a8e67964ce4b329db8df3c8f6f8": {
          "model_module": "@jupyter-widgets/base",
          "model_name": "LayoutModel",
          "model_module_version": "1.2.0",
          "state": {
            "_model_module": "@jupyter-widgets/base",
            "_model_module_version": "1.2.0",
            "_model_name": "LayoutModel",
            "_view_count": null,
            "_view_module": "@jupyter-widgets/base",
            "_view_module_version": "1.2.0",
            "_view_name": "LayoutView",
            "align_content": null,
            "align_items": null,
            "align_self": null,
            "border": null,
            "bottom": null,
            "display": null,
            "flex": null,
            "flex_flow": null,
            "grid_area": null,
            "grid_auto_columns": null,
            "grid_auto_flow": null,
            "grid_auto_rows": null,
            "grid_column": null,
            "grid_gap": null,
            "grid_row": null,
            "grid_template_areas": null,
            "grid_template_columns": null,
            "grid_template_rows": null,
            "height": null,
            "justify_content": null,
            "justify_items": null,
            "left": null,
            "margin": null,
            "max_height": null,
            "max_width": null,
            "min_height": null,
            "min_width": null,
            "object_fit": null,
            "object_position": null,
            "order": null,
            "overflow": null,
            "overflow_x": null,
            "overflow_y": null,
            "padding": null,
            "right": null,
            "top": null,
            "visibility": null,
            "width": null
          }
        },
        "c700a21dc00a493ba67c72b89010e52b": {
          "model_module": "@jupyter-widgets/base",
          "model_name": "LayoutModel",
          "model_module_version": "1.2.0",
          "state": {
            "_model_module": "@jupyter-widgets/base",
            "_model_module_version": "1.2.0",
            "_model_name": "LayoutModel",
            "_view_count": null,
            "_view_module": "@jupyter-widgets/base",
            "_view_module_version": "1.2.0",
            "_view_name": "LayoutView",
            "align_content": null,
            "align_items": null,
            "align_self": null,
            "border": null,
            "bottom": null,
            "display": null,
            "flex": null,
            "flex_flow": null,
            "grid_area": null,
            "grid_auto_columns": null,
            "grid_auto_flow": null,
            "grid_auto_rows": null,
            "grid_column": null,
            "grid_gap": null,
            "grid_row": null,
            "grid_template_areas": null,
            "grid_template_columns": null,
            "grid_template_rows": null,
            "height": null,
            "justify_content": null,
            "justify_items": null,
            "left": null,
            "margin": null,
            "max_height": null,
            "max_width": null,
            "min_height": null,
            "min_width": null,
            "object_fit": null,
            "object_position": null,
            "order": null,
            "overflow": null,
            "overflow_x": null,
            "overflow_y": null,
            "padding": null,
            "right": null,
            "top": null,
            "visibility": null,
            "width": null
          }
        },
        "8e7f6efd0ed04b7ca10da5904a9d3baa": {
          "model_module": "@jupyter-widgets/controls",
          "model_name": "DescriptionStyleModel",
          "model_module_version": "1.5.0",
          "state": {
            "_model_module": "@jupyter-widgets/controls",
            "_model_module_version": "1.5.0",
            "_model_name": "DescriptionStyleModel",
            "_view_count": null,
            "_view_module": "@jupyter-widgets/base",
            "_view_module_version": "1.2.0",
            "_view_name": "StyleView",
            "description_width": ""
          }
        },
        "89ae7ed08ca04a3e805bbd0e3e6ba6e2": {
          "model_module": "@jupyter-widgets/base",
          "model_name": "LayoutModel",
          "model_module_version": "1.2.0",
          "state": {
            "_model_module": "@jupyter-widgets/base",
            "_model_module_version": "1.2.0",
            "_model_name": "LayoutModel",
            "_view_count": null,
            "_view_module": "@jupyter-widgets/base",
            "_view_module_version": "1.2.0",
            "_view_name": "LayoutView",
            "align_content": null,
            "align_items": null,
            "align_self": null,
            "border": null,
            "bottom": null,
            "display": null,
            "flex": null,
            "flex_flow": null,
            "grid_area": null,
            "grid_auto_columns": null,
            "grid_auto_flow": null,
            "grid_auto_rows": null,
            "grid_column": null,
            "grid_gap": null,
            "grid_row": null,
            "grid_template_areas": null,
            "grid_template_columns": null,
            "grid_template_rows": null,
            "height": null,
            "justify_content": null,
            "justify_items": null,
            "left": null,
            "margin": null,
            "max_height": null,
            "max_width": null,
            "min_height": null,
            "min_width": null,
            "object_fit": null,
            "object_position": null,
            "order": null,
            "overflow": null,
            "overflow_x": null,
            "overflow_y": null,
            "padding": null,
            "right": null,
            "top": null,
            "visibility": null,
            "width": null
          }
        },
        "efb2a02db8db445db21dc83bb1f1766b": {
          "model_module": "@jupyter-widgets/controls",
          "model_name": "ProgressStyleModel",
          "model_module_version": "1.5.0",
          "state": {
            "_model_module": "@jupyter-widgets/controls",
            "_model_module_version": "1.5.0",
            "_model_name": "ProgressStyleModel",
            "_view_count": null,
            "_view_module": "@jupyter-widgets/base",
            "_view_module_version": "1.2.0",
            "_view_name": "StyleView",
            "bar_color": null,
            "description_width": ""
          }
        },
        "a8bbb4d32c114a6c92c217666a1e05e4": {
          "model_module": "@jupyter-widgets/base",
          "model_name": "LayoutModel",
          "model_module_version": "1.2.0",
          "state": {
            "_model_module": "@jupyter-widgets/base",
            "_model_module_version": "1.2.0",
            "_model_name": "LayoutModel",
            "_view_count": null,
            "_view_module": "@jupyter-widgets/base",
            "_view_module_version": "1.2.0",
            "_view_name": "LayoutView",
            "align_content": null,
            "align_items": null,
            "align_self": null,
            "border": null,
            "bottom": null,
            "display": null,
            "flex": null,
            "flex_flow": null,
            "grid_area": null,
            "grid_auto_columns": null,
            "grid_auto_flow": null,
            "grid_auto_rows": null,
            "grid_column": null,
            "grid_gap": null,
            "grid_row": null,
            "grid_template_areas": null,
            "grid_template_columns": null,
            "grid_template_rows": null,
            "height": null,
            "justify_content": null,
            "justify_items": null,
            "left": null,
            "margin": null,
            "max_height": null,
            "max_width": null,
            "min_height": null,
            "min_width": null,
            "object_fit": null,
            "object_position": null,
            "order": null,
            "overflow": null,
            "overflow_x": null,
            "overflow_y": null,
            "padding": null,
            "right": null,
            "top": null,
            "visibility": null,
            "width": null
          }
        },
        "5aabe53ff0314811979e4d032dcefa6f": {
          "model_module": "@jupyter-widgets/controls",
          "model_name": "DescriptionStyleModel",
          "model_module_version": "1.5.0",
          "state": {
            "_model_module": "@jupyter-widgets/controls",
            "_model_module_version": "1.5.0",
            "_model_name": "DescriptionStyleModel",
            "_view_count": null,
            "_view_module": "@jupyter-widgets/base",
            "_view_module_version": "1.2.0",
            "_view_name": "StyleView",
            "description_width": ""
          }
        }
      }
    }
  },
  "cells": [
    {
      "cell_type": "code",
      "execution_count": 1,
      "metadata": {
        "id": "VUJRYxTAJRQ5",
        "cellView": "form"
      },
      "outputs": [],
      "source": [
        "# @title Install requirements\n",
        "!pip install datasets &>> install.log"
      ]
    },
    {
      "cell_type": "code",
      "source": [
        "#@title imports and utility functions\n",
        "from datasets import load_dataset\n",
        "from PIL import Image\n",
        "import torch.nn.functional as F\n",
        "import os\n",
        "from tqdm.notebook import tqdm\n",
        "import torch\n",
        "import numpy as np\n",
        "\n",
        "\n",
        "def img_to_tensor(im):\n",
        "  return torch.tensor(np.array(im.convert('RGB'))/255).permute(2, 0, 1).unsqueeze(0) * 2 - 1\n",
        "\n",
        "def tensor_to_image(t):\n",
        "  return Image.fromarray(np.array(((t.squeeze().permute(1, 2, 0)+1)/2).clip(0, 1)*255).astype(np.uint8))\n",
        "\n",
        "def gather(consts: torch.Tensor, t: torch.Tensor):\n",
        "    \"\"\"Gather consts for $t$ and reshape to feature map shape\"\"\"\n",
        "    c = consts.gather(-1, t)\n",
        "    return c.reshape(-1, 1, 1, 1)"
      ],
      "metadata": {
        "id": "1PsUcKDDL_Ho",
        "cellView": "form"
      },
      "execution_count": 2,
      "outputs": []
    },
    {
      "cell_type": "code",
      "source": [
        "#@title cifar10 - 32px images in 10 classes\n",
        "\n",
        "# Download and load the dataset\n",
        "cifar10 = load_dataset('cifar10')\n",
        "\n",
        "class_labels = cifar10[\"train\"].features[\"label\"].names\n",
        "\n",
        "# View some examples:\n",
        "image = Image.new('RGB', size=(32*5, 32*2))\n",
        "for i in range(10):\n",
        "  im = cifar10['train'][i]['img']\n",
        "  image.paste(im, ( (i%5)*32, (i//5)*32 ))\n",
        "image.resize((32*5*4, 32*2*4), Image.NEAREST)"
      ],
      "metadata": {
        "colab": {
          "base_uri": "https://localhost:8080/",
          "height": 557,
          "referenced_widgets": [
            "23faf7030efc463ba3cc67e02964da1e",
            "053faac0869d44898ede016ab2c73c38",
            "bf27f113794349bc96d25d40d4d61c6d",
            "39ad6ed11bf54d32b9802a9bba9894d8",
            "84610b380ce54846bd743ce9331e2a56",
            "4e25bd91ed8d4bf997158a8a06752090",
            "714e92bc62ef4531b8582c9c93a7b9ce",
            "b85d9f9ce2a8485d988528889863257c",
            "6c17ec3fe35843d98ccdffb22cdfbaf5",
            "57bbbcc8be684b19a7f632461223af89",
            "576b45805cf84516a628cbce6f5cf338",
            "adddc7cd1c5c4ad3a026242379b9ae49",
            "ccc073fe16b74fed99e961140efcb7cd",
            "55311612c6334a57827adba3240cf2dc",
            "625da75fdb3e40a083fe433cc8fd71dd",
            "f332e5002f93422a9f24f51e60aee6ca",
            "da65a2415ffa40a4a2cba08cfbb65870",
            "9d3b77ad74c7492da41ccd66dfe3e04f",
            "51fe7fe268744dffa422aef0d09701d4",
            "4656f82e292c48bdaec27c44438daa3a",
            "3d6da07e7e48452aa270f5e2b0c00d61",
            "4685f8dcb459451980d81a18848e7c4c",
            "98bf95abef6a4835891151d235bdacf8",
            "378e1df584114da2b8a0f1d17182c33a",
            "4b1cb6c0d5f54773bc1ba1b1e6e0cf96",
            "6be8311c4ec4473885a5501ba4c09618",
            "5d3f160335384497ab3cc5a35b5da97e",
            "5449d1eda32f4b6593ea85d93c74d3f5",
            "ab4a13965ae94da9923704856831c141",
            "8aca3f18694349dfa2896e6d3aede58e",
            "caec85a9330a4f06b4057902ef2664d5",
            "173d0bd2dc2f42208d0fc95528b96894",
            "8d0250a483184b18bbfe625449317eb2",
            "b11a62ae046c415999f60e85cf3419cc",
            "7f36e3b1572f48aea44e5ec539e3fda6",
            "0d36f74978ed462ea8b06964d5327a31",
            "0c6129dc35eb48c4938860e6b88a1d6c",
            "2909ab495c9e48d9806de53572c735d5",
            "984147ef459947868b8f5c964a551160",
            "c5e6ae2bf6624115ac989f19696342f7",
            "df0f968de5e347b7bb503b1bcca4100e",
            "9f17a1e8df0d453aac32a2cd6920ed30",
            "a04ec135ec804cbeb086f703b331867a",
            "5891871a546548879fb52d4020d06408",
            "417345354ec54f5f9cd906305b68a954",
            "ffd85f524fc1402792fdeaa9b0824b26",
            "d424a9ee92ed40d2990f9620b0ca3c80",
            "93eb8e9e08bc4808abaa7f2565c45481",
            "c1dd9a92ba384c138969acb72d517462",
            "f704f53c59bf428596d6adf393790b6d",
            "8b92aa0bc02445479b28931177143be4",
            "5fa6619ff7e2489183b7d92602266d12",
            "e07349c346bd483e868a9b81834c9dec",
            "b46704d67a704acfbaabee4b26ba1ac9",
            "e82dc6fae2ca4f27bcc10a11a5f4470b"
          ]
        },
        "id": "QubCwR9MMHOV",
        "outputId": "69a12291-749e-42ca-f080-e0c193a2eab6",
        "cellView": "form",
        "collapsed": true
      },
      "execution_count": 3,
      "outputs": [
        {
          "output_type": "stream",
          "name": "stderr",
          "text": [
            "/usr/local/lib/python3.10/dist-packages/huggingface_hub/utils/_token.py:89: UserWarning: \n",
            "The secret `HF_TOKEN` does not exist in your Colab secrets.\n",
            "To authenticate with the Hugging Face Hub, create a token in your settings tab (https://huggingface.co/settings/tokens), set it as secret in your Google Colab and restart your session.\n",
            "You will be able to reuse this secret in all of your notebooks.\n",
            "Please note that authentication is recommended but still optional to access public models or datasets.\n",
            "  warnings.warn(\n"
          ]
        },
        {
          "output_type": "display_data",
          "data": {
            "text/plain": [
              "Downloading readme:   0%|          | 0.00/5.16k [00:00<?, ?B/s]"
            ],
            "application/vnd.jupyter.widget-view+json": {
              "version_major": 2,
              "version_minor": 0,
              "model_id": "23faf7030efc463ba3cc67e02964da1e"
            }
          },
          "metadata": {}
        },
        {
          "output_type": "display_data",
          "data": {
            "text/plain": [
              "Downloading data:   0%|          | 0.00/120M [00:00<?, ?B/s]"
            ],
            "application/vnd.jupyter.widget-view+json": {
              "version_major": 2,
              "version_minor": 0,
              "model_id": "adddc7cd1c5c4ad3a026242379b9ae49"
            }
          },
          "metadata": {}
        },
        {
          "output_type": "display_data",
          "data": {
            "text/plain": [
              "Downloading data:   0%|          | 0.00/23.9M [00:00<?, ?B/s]"
            ],
            "application/vnd.jupyter.widget-view+json": {
              "version_major": 2,
              "version_minor": 0,
              "model_id": "98bf95abef6a4835891151d235bdacf8"
            }
          },
          "metadata": {}
        },
        {
          "output_type": "display_data",
          "data": {
            "text/plain": [
              "Generating train split:   0%|          | 0/50000 [00:00<?, ? examples/s]"
            ],
            "application/vnd.jupyter.widget-view+json": {
              "version_major": 2,
              "version_minor": 0,
              "model_id": "b11a62ae046c415999f60e85cf3419cc"
            }
          },
          "metadata": {}
        },
        {
          "output_type": "display_data",
          "data": {
            "text/plain": [
              "Generating test split:   0%|          | 0/10000 [00:00<?, ? examples/s]"
            ],
            "application/vnd.jupyter.widget-view+json": {
              "version_major": 2,
              "version_minor": 0,
              "model_id": "417345354ec54f5f9cd906305b68a954"
            }
          },
          "metadata": {}
        },
        {
          "output_type": "execute_result",
          "data": {
            "text/plain": [
              "<PIL.Image.Image image mode=RGB size=640x256>"
            ],
            "image/png": "[encoded data removed]"
          },
          "metadata": {},
          "execution_count": 3
        }
      ]
    },
    {
      "cell_type": "code",
      "source": [
        "#@title Adding Noise\n",
        "n_steps = 100\n",
        "beta = torch.linspace(0.0001, 0.04, n_steps)\n",
        "\n",
        "def q_xt_xtminus1(xtm1, t):\n",
        "  # Scaling original image\n",
        "  mean = gather(1. - beta, t) ** 0.5 * xtm1 # √(1−βt)*xtm1\n",
        "  var = gather(beta, t) # βt I\n",
        "  eps = torch.randn_like(xtm1) # Noise shaped like xtm1\n",
        "  return mean + (var ** 0.5) * eps\n",
        "\n",
        "# Show im at different stages\n",
        "ims = []\n",
        "start_im = cifar10['train'][4]['img']\n",
        "x = img_to_tensor(start_im).squeeze()\n",
        "for t in range(n_steps):\n",
        "\n",
        "  # Store images every 20 steps to show progression\n",
        "  if t%20 == 0:\n",
        "    ims.append(tensor_to_image(x))\n",
        "\n",
        "  # Calculate Xt given Xt-1 (i.e. x from the previous iteration)\n",
        "  t = torch.tensor(t, dtype=torch.long) # t as a tensor\n",
        "  x = q_xt_xtminus1(x, t) # Modify x using our function above\n",
        "\n",
        "# Display the images\n",
        "image = Image.new('RGB', size=(32*5, 32))\n",
        "for i, im in enumerate(ims):\n",
        "  image.paste(im, ((i%5)*32, 0))\n",
        "image.resize((32*4*5, 32*4), Image.NEAREST)"
      ],
      "metadata": {
        "colab": {
          "base_uri": "https://localhost:8080/",
          "height": 145
        },
        "id": "419C7q0TMRAH",
        "outputId": "b7f31133-fbaf-47e7-b22c-694ba1990638",
        "cellView": "form"
      },
      "execution_count": 4,
      "outputs": [
        {
          "output_type": "execute_result",
          "data": {
            "text/plain": [
              "<PIL.Image.Image image mode=RGB size=640x128>"
            ],
            "image/png": "[encoded data removed]"
          },
          "metadata": {},
          "execution_count": 4
        }
      ]
    },
    {
      "cell_type": "code",
      "source": [
        "#@title Closed form equation of adding noise\n",
        "# Adding noise using th closed form equation\n",
        "n_steps = 100\n",
        "beta = torch.linspace(0.0001, 0.04, n_steps)\n",
        "alpha = 1. - beta\n",
        "alpha_bar = torch.cumprod(alpha, dim=0)\n",
        "\n",
        "def q_xt_x0(x0, t):\n",
        "  mean = gather(alpha_bar, t) ** 0.5 * x0 # now alpha_bar\n",
        "  var = 1-gather(alpha_bar, t) # (1-alpha_bar)\n",
        "  eps = torch.randn_like(x0)\n",
        "  return mean + (var ** 0.5) * eps\n",
        "\n",
        "# Show im at different stages\n",
        "ims = []\n",
        "start_im = cifar10['train'][4]['img']\n",
        "x0 = img_to_tensor(start_im).squeeze()\n",
        "for t in [0, 20, 40, 60, 80]:\n",
        "  x = q_xt_x0(x0, torch.tensor(t, dtype=torch.long)) # TODO move type to gather\n",
        "  ims.append(tensor_to_image(x))\n",
        "\n",
        "image = Image.new('RGB', size=(32*5, 32))\n",
        "for i, im in enumerate(ims):\n",
        "  image.paste(im, ((i%5)*32, 0))\n",
        "image.resize((32*4*5, 32*4), Image.NEAREST)"
      ],
      "metadata": {
        "colab": {
          "base_uri": "https://localhost:8080/",
          "height": 145
        },
        "id": "Z1jlPGsKNeje",
        "outputId": "48f6ba25-b3a3-44df-fd24-4dac1906b277",
        "cellView": "form"
      },
      "execution_count": 5,
      "outputs": [
        {
          "output_type": "execute_result",
          "data": {
            "text/plain": [
              "<PIL.Image.Image image mode=RGB size=640x128>"
            ],
            "image/png": "[encoded data removed]"
          },
          "metadata": {},
          "execution_count": 5
        }
      ]
    },
    {
      "cell_type": "code",
      "source": [
        "#@title Unet Definition\n",
        "\n",
        "import math\n",
        "from typing import Optional, Tuple, Union, List\n",
        "\n",
        "import torch\n",
        "from torch import nn\n",
        "\n",
        "# A fancy activation function\n",
        "class Swish(nn.Module):\n",
        "    \"\"\"\n",
        "    ### Swish actiavation function\n",
        "    $$x \\cdot \\sigma(x)$$\n",
        "    \"\"\"\n",
        "\n",
        "    def forward(self, x):\n",
        "        return x * torch.sigmoid(x)\n",
        "\n",
        "# The time embedding\n",
        "class TimeEmbedding(nn.Module):\n",
        "    \"\"\"\n",
        "    ### Embeddings for $t$\n",
        "    \"\"\"\n",
        "\n",
        "    def __init__(self, n_channels: int):\n",
        "        \"\"\"\n",
        "        * `n_channels` is the number of dimensions in the embedding\n",
        "        \"\"\"\n",
        "        super().__init__()\n",
        "        self.n_channels = n_channels\n",
        "        # First linear layer\n",
        "        self.lin1 = nn.Linear(self.n_channels // 4, self.n_channels)\n",
        "        # Activation\n",
        "        self.act = Swish()\n",
        "        # Second linear layer\n",
        "        self.lin2 = nn.Linear(self.n_channels, self.n_channels)\n",
        "\n",
        "    def forward(self, t: torch.Tensor):\n",
        "        # Create sinusoidal position embeddings\n",
        "        # [same as those from the transformer](../../transformers/positional_encoding.html)\n",
        "        #\n",
        "        # \\begin{align}\n",
        "        # PE^{(1)}_{t,i} &= sin\\Bigg(\\frac{t}{10000^{\\frac{i}{d - 1}}}\\Bigg) \\\\\n",
        "        # PE^{(2)}_{t,i} &= cos\\Bigg(\\frac{t}{10000^{\\frac{i}{d - 1}}}\\Bigg)\n",
        "        # \\end{align}\n",
        "        #\n",
        "        # where $d$ is `half_dim`\n",
        "        half_dim = self.n_channels // 8\n",
        "        emb = math.log(10_000) / (half_dim - 1)\n",
        "        emb = torch.exp(torch.arange(half_dim, device=t.device) * -emb)\n",
        "        emb = t[:, None] * emb[None, :]\n",
        "        emb = torch.cat((emb.sin(), emb.cos()), dim=1)\n",
        "\n",
        "        # Transform with the MLP\n",
        "        emb = self.act(self.lin1(emb))\n",
        "        emb = self.lin2(emb)\n",
        "\n",
        "        #\n",
        "        return emb\n",
        "\n",
        "# Residual blocks include 'skip' connections\n",
        "class ResidualBlock(nn.Module):\n",
        "    \"\"\"\n",
        "    ### Residual block\n",
        "    A residual block has two convolution layers with group normalization.\n",
        "    Each resolution is processed with two residual blocks.\n",
        "    \"\"\"\n",
        "\n",
        "    def __init__(self, in_channels: int, out_channels: int, time_channels: int, n_groups: int = 32):\n",
        "        \"\"\"\n",
        "        * `in_channels` is the number of input channels\n",
        "        * `out_channels` is the number of input channels\n",
        "        * `time_channels` is the number channels in the time step ($t$) embeddings\n",
        "        * `n_groups` is the number of groups for [group normalization](../../normalization/group_norm/index.html)\n",
        "        \"\"\"\n",
        "        super().__init__()\n",
        "        # Group normalization and the first convolution layer\n",
        "        self.norm1 = nn.GroupNorm(n_groups, in_channels)\n",
        "        self.act1 = Swish()\n",
        "        self.conv1 = nn.Conv2d(in_channels, out_channels, kernel_size=(3, 3), padding=(1, 1))\n",
        "\n",
        "        # Group normalization and the second convolution layer\n",
        "        self.norm2 = nn.GroupNorm(n_groups, out_channels)\n",
        "        self.act2 = Swish()\n",
        "        self.conv2 = nn.Conv2d(out_channels, out_channels, kernel_size=(3, 3), padding=(1, 1))\n",
        "\n",
        "        # If the number of input channels is not equal to the number of output channels we have to\n",
        "        # project the shortcut connection\n",
        "        if in_channels != out_channels:\n",
        "            self.shortcut = nn.Conv2d(in_channels, out_channels, kernel_size=(1, 1))\n",
        "        else:\n",
        "            self.shortcut = nn.Identity()\n",
        "\n",
        "        # Linear layer for time embeddings\n",
        "        self.time_emb = nn.Linear(time_channels, out_channels)\n",
        "\n",
        "    def forward(self, x: torch.Tensor, t: torch.Tensor):\n",
        "        \"\"\"\n",
        "        * `x` has shape `[batch_size, in_channels, height, width]`\n",
        "        * `t` has shape `[batch_size, time_channels]`\n",
        "        \"\"\"\n",
        "        # First convolution layer\n",
        "        h = self.conv1(self.act1(self.norm1(x)))\n",
        "        # Add time embeddings\n",
        "        h += self.time_emb(t)[:, :, None, None]\n",
        "        # Second convolution layer\n",
        "        h = self.conv2(self.act2(self.norm2(h)))\n",
        "\n",
        "        # Add the shortcut connection and return\n",
        "        return h + self.shortcut(x)\n",
        "\n",
        "# Ahh yes, magical attention...\n",
        "class AttentionBlock(nn.Module):\n",
        "    \"\"\"\n",
        "    ### Attention block\n",
        "    This is similar to [transformer multi-head attention](../../transformers/mha.html).\n",
        "    \"\"\"\n",
        "\n",
        "    def __init__(self, n_channels: int, n_heads: int = 1, d_k: int = None, n_groups: int = 32):\n",
        "        \"\"\"\n",
        "        * `n_channels` is the number of channels in the input\n",
        "        * `n_heads` is the number of heads in multi-head attention\n",
        "        * `d_k` is the number of dimensions in each head\n",
        "        * `n_groups` is the number of groups for [group normalization](../../normalization/group_norm/index.html)\n",
        "        \"\"\"\n",
        "        super().__init__()\n",
        "\n",
        "        # Default `d_k`\n",
        "        if d_k is None:\n",
        "            d_k = n_channels\n",
        "        # Normalization layer\n",
        "        self.norm = nn.GroupNorm(n_groups, n_channels)\n",
        "        # Projections for query, key and values\n",
        "        self.projection = nn.Linear(n_channels, n_heads * d_k * 3)\n",
        "        # Linear layer for final transformation\n",
        "        self.output = nn.Linear(n_heads * d_k, n_channels)\n",
        "        # Scale for dot-product attention\n",
        "        self.scale = d_k ** -0.5\n",
        "        #\n",
        "        self.n_heads = n_heads\n",
        "        self.d_k = d_k\n",
        "\n",
        "    def forward(self, x: torch.Tensor, t: Optional[torch.Tensor] = None):\n",
        "        \"\"\"\n",
        "        * `x` has shape `[batch_size, in_channels, height, width]`\n",
        "        * `t` has shape `[batch_size, time_channels]`\n",
        "        \"\"\"\n",
        "        # `t` is not used, but it's kept in the arguments because for the attention layer function signature\n",
        "        # to match with `ResidualBlock`.\n",
        "        _ = t\n",
        "        # Get shape\n",
        "        batch_size, n_channels, height, width = x.shape\n",
        "        # Change `x` to shape `[batch_size, seq, n_channels]`\n",
        "        x = x.view(batch_size, n_channels, -1).permute(0, 2, 1)\n",
        "        # Get query, key, and values (concatenated) and shape it to `[batch_size, seq, n_heads, 3 * d_k]`\n",
        "        qkv = self.projection(x).view(batch_size, -1, self.n_heads, 3 * self.d_k)\n",
        "        # Split query, key, and values. Each of them will have shape `[batch_size, seq, n_heads, d_k]`\n",
        "        q, k, v = torch.chunk(qkv, 3, dim=-1)\n",
        "        # Calculate scaled dot-product $\\frac{Q K^\\top}{\\sqrt{d_k}}$\n",
        "        attn = torch.einsum('bihd,bjhd->bijh', q, k) * self.scale\n",
        "        # Softmax along the sequence dimension $\\underset{seq}{softmax}\\Bigg(\\frac{Q K^\\top}{\\sqrt{d_k}}\\Bigg)$\n",
        "        attn = attn.softmax(dim=1)\n",
        "        # Multiply by values\n",
        "        res = torch.einsum('bijh,bjhd->bihd', attn, v)\n",
        "        # Reshape to `[batch_size, seq, n_heads * d_k]`\n",
        "        res = res.view(batch_size, -1, self.n_heads * self.d_k)\n",
        "        # Transform to `[batch_size, seq, n_channels]`\n",
        "        res = self.output(res)\n",
        "\n",
        "        # Add skip connection\n",
        "        res += x\n",
        "\n",
        "        # Change to shape `[batch_size, in_channels, height, width]`\n",
        "        res = res.permute(0, 2, 1).view(batch_size, n_channels, height, width)\n",
        "\n",
        "        #\n",
        "        return res\n",
        "\n",
        "\n",
        "class DownBlock(nn.Module):\n",
        "    \"\"\"\n",
        "    ### Down block\n",
        "    This combines `ResidualBlock` and `AttentionBlock`. These are used in the first half of U-Net at each resolution.\n",
        "    \"\"\"\n",
        "\n",
        "    def __init__(self, in_channels: int, out_channels: int, time_channels: int, has_attn: bool):\n",
        "        super().__init__()\n",
        "        self.res = ResidualBlock(in_channels, out_channels, time_channels)\n",
        "        if has_attn:\n",
        "            self.attn = AttentionBlock(out_channels)\n",
        "        else:\n",
        "            self.attn = nn.Identity()\n",
        "\n",
        "    def forward(self, x: torch.Tensor, t: torch.Tensor):\n",
        "        x = self.res(x, t)\n",
        "        x = self.attn(x)\n",
        "        return x\n",
        "\n",
        "\n",
        "class UpBlock(nn.Module):\n",
        "    \"\"\"\n",
        "    ### Up block\n",
        "    This combines `ResidualBlock` and `AttentionBlock`. These are used in the second half of U-Net at each resolution.\n",
        "    \"\"\"\n",
        "\n",
        "    def __init__(self, in_channels: int, out_channels: int, time_channels: int, has_attn: bool):\n",
        "        super().__init__()\n",
        "        # The input has `in_channels + out_channels` because we concatenate the output of the same resolution\n",
        "        # from the first half of the U-Net\n",
        "        self.res = ResidualBlock(in_channels + out_channels, out_channels, time_channels)\n",
        "        if has_attn:\n",
        "            self.attn = AttentionBlock(out_channels)\n",
        "        else:\n",
        "            self.attn = nn.Identity()\n",
        "\n",
        "    def forward(self, x: torch.Tensor, t: torch.Tensor):\n",
        "        x = self.res(x, t)\n",
        "        x = self.attn(x)\n",
        "        return x\n",
        "\n",
        "\n",
        "class MiddleBlock(nn.Module):\n",
        "    \"\"\"\n",
        "    ### Middle block\n",
        "    It combines a `ResidualBlock`, `AttentionBlock`, followed by another `ResidualBlock`.\n",
        "    This block is applied at the lowest resolution of the U-Net.\n",
        "    \"\"\"\n",
        "\n",
        "    def __init__(self, n_channels: int, time_channels: int):\n",
        "        super().__init__()\n",
        "        self.res1 = ResidualBlock(n_channels, n_channels, time_channels)\n",
        "        self.attn = AttentionBlock(n_channels)\n",
        "        self.res2 = ResidualBlock(n_channels, n_channels, time_channels)\n",
        "\n",
        "    def forward(self, x: torch.Tensor, t: torch.Tensor):\n",
        "        x = self.res1(x, t)\n",
        "        x = self.attn(x)\n",
        "        x = self.res2(x, t)\n",
        "        return x\n",
        "\n",
        "\n",
        "class Upsample(nn.Module):\n",
        "    \"\"\"\n",
        "    ### Scale up the feature map by $2 \\times$\n",
        "    \"\"\"\n",
        "\n",
        "    def __init__(self, n_channels):\n",
        "        super().__init__()\n",
        "        self.conv = nn.ConvTranspose2d(n_channels, n_channels, (4, 4), (2, 2), (1, 1))\n",
        "\n",
        "    def forward(self, x: torch.Tensor, t: torch.Tensor):\n",
        "        # `t` is not used, but it's kept in the arguments because for the attention layer function signature\n",
        "        # to match with `ResidualBlock`.\n",
        "        _ = t\n",
        "        return self.conv(x)\n",
        "\n",
        "\n",
        "class Downsample(nn.Module):\n",
        "    \"\"\"\n",
        "    ### Scale down the feature map by $\\frac{1}{2} \\times$\n",
        "    \"\"\"\n",
        "\n",
        "    def __init__(self, n_channels):\n",
        "        super().__init__()\n",
        "        self.conv = nn.Conv2d(n_channels, n_channels, (3, 3), (2, 2), (1, 1))\n",
        "\n",
        "    def forward(self, x: torch.Tensor, t: torch.Tensor):\n",
        "        # `t` is not used, but it's kept in the arguments because for the attention layer function signature\n",
        "        # to match with `ResidualBlock`.\n",
        "        _ = t\n",
        "        return self.conv(x)\n",
        "\n",
        "# The core class definition (aka the important bit)\n",
        "class UNet(nn.Module):\n",
        "    \"\"\"\n",
        "    ## U-Net\n",
        "    \"\"\"\n",
        "\n",
        "    def __init__(self, image_channels: int = 3, n_channels: int = 64,\n",
        "                 ch_mults: Union[Tuple[int, ...], List[int]] = (1, 2, 2, 4),\n",
        "                 is_attn: Union[Tuple[bool, ...], List[int]] = (False, False, True, True),\n",
        "                 n_blocks: int = 2):\n",
        "        \"\"\"\n",
        "        * `image_channels` is the number of channels in the image. $3$ for RGB.\n",
        "        * `n_channels` is number of channels in the initial feature map that we transform the image into\n",
        "        * `ch_mults` is the list of channel numbers at each resolution. The number of channels is `ch_mults[i] * n_channels`\n",
        "        * `is_attn` is a list of booleans that indicate whether to use attention at each resolution\n",
        "        * `n_blocks` is the number of `UpDownBlocks` at each resolution\n",
        "        \"\"\"\n",
        "        super().__init__()\n",
        "\n",
        "        # Number of resolutions\n",
        "        n_resolutions = len(ch_mults)\n",
        "\n",
        "        # Project image into feature map\n",
        "        self.image_proj = nn.Conv2d(image_channels, n_channels, kernel_size=(3, 3), padding=(1, 1))\n",
        "\n",
        "        # Time embedding layer. Time embedding has `n_channels * 4` channels\n",
        "        self.time_emb = TimeEmbedding(n_channels * 4)\n",
        "\n",
        "        # #### First half of U-Net - decreasing resolution\n",
        "        down = []\n",
        "        # Number of channels\n",
        "        out_channels = in_channels = n_channels\n",
        "        # For each resolution\n",
        "        for i in range(n_resolutions):\n",
        "            # Number of output channels at this resolution\n",
        "            out_channels = in_channels * ch_mults[i]\n",
        "            # Add `n_blocks`\n",
        "            for _ in range(n_blocks):\n",
        "                down.append(DownBlock(in_channels, out_channels, n_channels * 4, is_attn[i]))\n",
        "                in_channels = out_channels\n",
        "            # Down sample at all resolutions except the last\n",
        "            if i < n_resolutions - 1:\n",
        "                down.append(Downsample(in_channels))\n",
        "\n",
        "        # Combine the set of modules\n",
        "        self.down = nn.ModuleList(down)\n",
        "\n",
        "        # Middle block\n",
        "        self.middle = MiddleBlock(out_channels, n_channels * 4, )\n",
        "\n",
        "        # #### Second half of U-Net - increasing resolution\n",
        "        up = []\n",
        "        # Number of channels\n",
        "        in_channels = out_channels\n",
        "        # For each resolution\n",
        "        for i in reversed(range(n_resolutions)):\n",
        "            # `n_blocks` at the same resolution\n",
        "            out_channels = in_channels\n",
        "            for _ in range(n_blocks):\n",
        "                up.append(UpBlock(in_channels, out_channels, n_channels * 4, is_attn[i]))\n",
        "            # Final block to reduce the number of channels\n",
        "            out_channels = in_channels // ch_mults[i]\n",
        "            up.append(UpBlock(in_channels, out_channels, n_channels * 4, is_attn[i]))\n",
        "            in_channels = out_channels\n",
        "            # Up sample at all resolutions except last\n",
        "            if i > 0:\n",
        "                up.append(Upsample(in_channels))\n",
        "\n",
        "        # Combine the set of modules\n",
        "        self.up = nn.ModuleList(up)\n",
        "\n",
        "        # Final normalization and convolution layer\n",
        "        self.norm = nn.GroupNorm(8, n_channels)\n",
        "        self.act = Swish()\n",
        "        self.final = nn.Conv2d(in_channels, image_channels, kernel_size=(3, 3), padding=(1, 1))\n",
        "\n",
        "    def forward(self, x: torch.Tensor, t: torch.Tensor):\n",
        "        \"\"\"\n",
        "        * `x` has shape `[batch_size, in_channels, height, width]`\n",
        "        * `t` has shape `[batch_size]`\n",
        "        \"\"\"\n",
        "\n",
        "        # Get time-step embeddings\n",
        "        t = self.time_emb(t)\n",
        "\n",
        "        # Get image projection\n",
        "        x = self.image_proj(x)\n",
        "\n",
        "        # `h` will store outputs at each resolution for skip connection\n",
        "        h = [x]\n",
        "        # First half of U-Net\n",
        "        for m in self.down:\n",
        "            x = m(x, t)\n",
        "            h.append(x)\n",
        "\n",
        "        # Middle (bottom)\n",
        "        x = self.middle(x, t)\n",
        "\n",
        "        # Second half of U-Net\n",
        "        for m in self.up:\n",
        "            if isinstance(m, Upsample):\n",
        "                x = m(x, t)\n",
        "            else:\n",
        "                # Get the skip connection from first half of U-Net and concatenate\n",
        "                s = h.pop()\n",
        "                x = torch.cat((x, s), dim=1)\n",
        "                #\n",
        "                x = m(x, t)\n",
        "\n",
        "        # Final normalization and convolution\n",
        "        return self.final(self.act(self.norm(x)))"
      ],
      "metadata": {
        "cellView": "form",
        "id": "kWs6pPe0Osf_"
      },
      "execution_count": 6,
      "outputs": []
    },
    {
      "cell_type": "code",
      "source": [
        "# Let's see it in action on dummy data:\n",
        "\n",
        "# A dummy batch of 10 3-channel 32px images\n",
        "x = torch.randn(10, 3, 32, 32)\n",
        "\n",
        "# 't' - what timestep are we on\n",
        "t = torch.tensor([50.], dtype=torch.long)\n",
        "\n",
        "# Define the unet model\n",
        "unet = UNet()\n",
        "\n",
        "# The foreward pass (takes both x and t)\n",
        "model_output = unet(x, t)\n",
        "\n",
        "# The output shape matches the input.\n",
        "model_output.shape"
      ],
      "metadata": {
        "colab": {
          "base_uri": "https://localhost:8080/"
        },
        "id": "iEYlqW7APDlm",
        "outputId": "221ff6a0-79c8-4a63-888d-35b2b619c024"
      },
      "execution_count": 7,
      "outputs": [
        {
          "output_type": "execute_result",
          "data": {
            "text/plain": [
              "torch.Size([10, 3, 32, 32])"
            ]
          },
          "metadata": {},
          "execution_count": 7
        }
      ]
    },
    {
      "cell_type": "code",
      "source": [
        "#@title Training\n",
        "# Create the model\n",
        "unet = UNet(n_channels=32).cuda()\n",
        "\n",
        "# Set up some parameters\n",
        "n_steps = 100\n",
        "beta = torch.linspace(0.0001, 0.04, n_steps).cuda()\n",
        "alpha = 1. - beta\n",
        "alpha_bar = torch.cumprod(alpha, dim=0)\n",
        "\n",
        "# Modified to return the noise itself as well\n",
        "def q_xt_x0(x0, t):\n",
        "  mean = gather(alpha_bar, t) ** 0.5 * x0\n",
        "  var = 1-gather(alpha_bar, t)\n",
        "  eps = torch.randn_like(x0).to(x0.device)\n",
        "  return mean + (var ** 0.5) * eps, eps # also returns noise\n",
        "\n",
        "# Training params\n",
        "batch_size = 128 # Lower this if hitting memory issues\n",
        "lr = 2e-4 # Explore this - might want it lower when training on the full dataset\n",
        "\n",
        "losses = [] # Store losses for later plotting\n",
        "\n",
        "dataset = cifar10['train']#.select(range(10000)) # to use a 10k subset for demo\n",
        "\n",
        "optim = torch.optim.AdamW(unet.parameters(), lr=lr) # Optimizer\n",
        "\n",
        "for i in tqdm(range(0, len(dataset)-batch_size, batch_size)): # Run through the dataset\n",
        "  ims = [dataset[idx]['img'] for idx in range(i,i+batch_size)] # Fetch some images\n",
        "  tims = [img_to_tensor(im).cuda() for im in ims] # Convert to tensors\n",
        "  x0 = torch.cat(tims) # Combine into a batch\n",
        "  t = torch.randint(0, n_steps, (batch_size,), dtype=torch.long).cuda() # Random 't's\n",
        "  xt, noise = q_xt_x0(x0, t) # Get the noised images (xt) and the noise (our target)\n",
        "  pred_noise = unet(xt.float(), t) # Run xt through the network to get its predictions\n",
        "  loss = F.mse_loss(noise.float(), pred_noise) # Compare the predictions with the targets\n",
        "  losses.append(loss.item()) # Store the loss for later viewing\n",
        "  optim.zero_grad() # Zero the gradients\n",
        "  loss.backward() # Backpropagate the loss (computes and store gradients)\n",
        "  optim.step() # Update the network parameters (using those gradients)"
      ],
      "metadata": {
        "colab": {
          "base_uri": "https://localhost:8080/",
          "height": 49,
          "referenced_widgets": [
            "c8caf35dd34c4d1c85e2f9c2f1c8ab87",
            "5c0672384b204ba5add2e1455231a06d",
            "ed2dd8fc76794d7b94263f7ce614a470",
            "96a510092dcd4804a0658542f2fc3414",
            "74428a8e67964ce4b329db8df3c8f6f8",
            "c700a21dc00a493ba67c72b89010e52b",
            "8e7f6efd0ed04b7ca10da5904a9d3baa",
            "89ae7ed08ca04a3e805bbd0e3e6ba6e2",
            "efb2a02db8db445db21dc83bb1f1766b",
            "a8bbb4d32c114a6c92c217666a1e05e4",
            "5aabe53ff0314811979e4d032dcefa6f"
          ]
        },
        "id": "qFmMd_MzPPbA",
        "outputId": "47b3d61f-8fb4-4f30-de3d-0dfb70524086",
        "cellView": "form"
      },
      "execution_count": 8,
      "outputs": [
        {
          "output_type": "display_data",
          "data": {
            "text/plain": [
              "  0%|          | 0/390 [00:00<?, ?it/s]"
            ],
            "application/vnd.jupyter.widget-view+json": {
              "version_major": 2,
              "version_minor": 0,
              "model_id": "c8caf35dd34c4d1c85e2f9c2f1c8ab87"
            }
          },
          "metadata": {}
        }
      ]
    },
    {
      "cell_type": "code",
      "source": [
        "#@title Plotting loss\n",
        "from matplotlib import pyplot as plt\n",
        "plt.plot(losses)"
      ],
      "metadata": {
        "colab": {
          "base_uri": "https://localhost:8080/",
          "height": 447
        },
        "id": "q8QW2hTGQGDU",
        "outputId": "0179c1a5-9c9e-4c2a-c309-fa1641581a7e",
        "collapsed": true,
        "cellView": "form"
      },
      "execution_count": 9,
      "outputs": [
        {
          "output_type": "execute_result",
          "data": {
            "text/plain": [
              "[<matplotlib.lines.Line2D at 0x7d3ec6674940>]"
            ]
          },
          "metadata": {},
          "execution_count": 9
        },
        {
          "output_type": "display_data",
          "data": {
            "text/plain": [
              "<Figure size 640x480 with 1 Axes>"
            ],
            "image/png": "[encoded data removed]"
          },
          "metadata": {}
        }
      ]
    },
    {
      "cell_type": "markdown",
      "source": [
        "#Changing hyperparameters and observing loss\n",
        "\n",
        "**Original hyperparameters:**\n",
        "\n",
        "Learning rate - 2e-4\n",
        "\n",
        "Beta - torch.linspace(0.0001, 0.04, n_steps)\n",
        "\n",
        "Number of Denoising Steps - 100\n",
        "\n",
        "Loss Curve:\n",
        "\n",
        "![original.png](data:image/png;base64,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)\n",
        "\n",
        "**Tweaked hyperparameters:**\n",
        "\n",
        "Learning rate - 1e-4\n",
        "\n",
        "Beta - torch.linspace(0.0001, 0.04, n_steps)\n",
        "\n",
        "Number of Denoising Steps - 200\n",
        "\n",
        "Loss curve:\n",
        "\n",
        "![tweaked.png](data:image/png;base64,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)\n",
        "#Observations and Findings\n",
        "We observe a slight drop in losses with new parameters. Reducing the learning rate will lead to better but slower convergence of the loss function whereas increasing the denoising steps means more steps. Thus, the losses decrease more slowly for new parameters, but eventually becomes equal."
      ],
      "metadata": {
        "id": "Gg8yIPuAsmup"
      }
    },
    {
      "cell_type": "code",
      "source": [
        "#@title Reversing and generating Images\n",
        "def p_xt(xt, noise, t):\n",
        "  alpha_t = gather(alpha, t)\n",
        "  alpha_bar_t = gather(alpha_bar, t)\n",
        "  eps_coef = (1 - alpha_t) / (1 - alpha_bar_t) ** .5\n",
        "  mean = 1 / (alpha_t ** 0.5) * (xt - eps_coef * noise) # Note minus sign\n",
        "  var = gather(beta, t)\n",
        "  eps = torch.randn(xt.shape, device=xt.device)\n",
        "  return mean + (var ** 0.5) * eps\n",
        "\n",
        "x = torch.randn(1, 3, 32, 32).cuda() # Start with random noise\n",
        "ims = []\n",
        "for i in range(n_steps):\n",
        "  t = torch.tensor(n_steps-i-1, dtype=torch.long).cuda()\n",
        "  with torch.no_grad():\n",
        "    pred_noise = unet(x.float(), t.unsqueeze(0))\n",
        "    x = p_xt(x, pred_noise, t.unsqueeze(0))\n",
        "    if i%24 == 0:\n",
        "      ims.append(tensor_to_image(x.cpu()))\n",
        "\n",
        "image = Image.new('RGB', size=(32*5, 32))\n",
        "for i, im in enumerate(ims[:5]):\n",
        "  image.paste(im, ((i%5)*32, 0))\n",
        "image.resize((32*4*5, 32*4), Image.NEAREST)"
      ],
      "metadata": {
        "colab": {
          "base_uri": "https://localhost:8080/",
          "height": 145
        },
        "id": "SKbCaER6QenA",
        "outputId": "5f809e21-0d84-4721-deb1-819fe4fe8b4d",
        "cellView": "form"
      },
      "execution_count": 10,
      "outputs": [
        {
          "output_type": "execute_result",
          "data": {
            "text/plain": [
              "<PIL.Image.Image image mode=RGB size=640x128>"
            ],
            "image/png": "[encoded data removed]"
          },
          "metadata": {},
          "execution_count": 10
        }
      ]
    },
    {
      "cell_type": "code",
      "source": [
        "#@title Images from all classes of the CIFAR10 dataset\n",
        "# Dictionary to track selected classes\n",
        "selected_classes = {label: False for label in range(10)}\n",
        "\n",
        "# Number of noising steps to use\n",
        "noising_steps_list = [50, 10, 5]\n",
        "\n",
        "# List to store images for display\n",
        "final_images = []\n",
        "\n",
        "# Generating and showing images for each class\n",
        "for example in cifar10['train']:\n",
        "    if all(selected_classes.values()):\n",
        "        break  # Stop if we have selected one image for each class\n",
        "\n",
        "    label = example['label']\n",
        "    if selected_classes[label]:\n",
        "        continue  # Skip if we already have an image for this class\n",
        "\n",
        "    # Mark this class as selected\n",
        "    selected_classes[label] = True\n",
        "\n",
        "    image = example['img']\n",
        "    x0 = img_to_tensor(image)\n",
        "\n",
        "    for noising_steps in noising_steps_list:\n",
        "        x = torch.cat([q_xt_x0(x0.cuda(), torch.tensor(noising_steps, dtype=torch.long).cuda())[0] for _ in range(10)])\n",
        "        example_start = q_xt_x0(x0.cuda(), torch.tensor(noising_steps, dtype=torch.long).cuda())[0]\n",
        "\n",
        "        ims = []\n",
        "\n",
        "        for i in range(n_steps - noising_steps, n_steps):\n",
        "            t = torch.tensor(n_steps - i - 1, dtype=torch.long).cuda()\n",
        "            with torch.no_grad():\n",
        "                pred_noise = unet(x.float(), t.unsqueeze(0))\n",
        "                x = p_xt(x, pred_noise, t.unsqueeze(0))\n",
        "\n",
        "        for img_idx in range(10):\n",
        "            ims.append(tensor_to_image(x[img_idx].unsqueeze(0).cpu()))\n",
        "\n",
        "        # Only store the final denoised image for each noising step\n",
        "        final_image = ims[-1].resize((128, 128), Image.NEAREST)  # Resize to a larger size\n",
        "\n",
        "        final_images.append((class_labels[label], noising_steps, final_image))\n",
        "\n",
        "# Display all final images\n",
        "for label, noising_steps, final_image in final_images:\n",
        "    print(f\"Class: {label}, Noising Steps: {noising_steps}\")\n",
        "    display(final_image)"
      ],
      "metadata": {
        "colab": {
          "base_uri": "https://localhost:8080/",
          "height": 1000
        },
        "cellView": "form",
        "id": "4ROrdbFcsyxx",
        "outputId": "f61f1a0f-5f94-41ca-dcb9-2c219c66b1d3"
      },
      "execution_count": 16,
      "outputs": [
        {
          "output_type": "stream",
          "name": "stdout",
          "text": [
            "Class: airplane, Noising Steps: 50\n"
          ]
        },
        {
          "output_type": "display_data",
          "data": {
            "text/plain": [
              "<PIL.Image.Image image mode=RGB size=128x128>"
            ],
            "image/png": "[encoded data removed]"
          },
          "metadata": {}
        },
        {
          "output_type": "stream",
          "name": "stdout",
          "text": [
            "Class: airplane, Noising Steps: 10\n"
          ]
        },
        {
          "output_type": "display_data",
          "data": {
            "text/plain": [
              "<PIL.Image.Image image mode=RGB size=128x128>"
            ],
            "image/png": "[encoded data removed]"
          },
          "metadata": {}
        },
        {
          "output_type": "stream",
          "name": "stdout",
          "text": [
            "Class: airplane, Noising Steps: 5\n"
          ]
        },
        {
          "output_type": "display_data",
          "data": {
            "text/plain": [
              "<PIL.Image.Image image mode=RGB size=128x128>"
            ],
            "image/png": "[encoded data removed]"
          },
          "metadata": {}
        },
        {
          "output_type": "stream",
          "name": "stdout",
          "text": [
            "Class: frog, Noising Steps: 50\n"
          ]
        },
        {
          "output_type": "display_data",
          "data": {
            "text/plain": [
              "<PIL.Image.Image image mode=RGB size=128x128>"
            ],
            "image/png": "[encoded data removed]"
          },
          "metadata": {}
        },
        {
          "output_type": "stream",
          "name": "stdout",
          "text": [
            "Class: frog, Noising Steps: 10\n"
          ]
        },
        {
          "output_type": "display_data",
          "data": {
            "text/plain": [
              "<PIL.Image.Image image mode=RGB size=128x128>"
            ],
            "image/png": "[encoded data removed]"
          },
          "metadata": {}
        },
        {
          "output_type": "stream",
          "name": "stdout",
          "text": [
            "Class: frog, Noising Steps: 5\n"
          ]
        },
        {
          "output_type": "display_data",
          "data": {
            "text/plain": [
              "<PIL.Image.Image image mode=RGB size=128x128>"
            ],
            "image/png": "[encoded data removed]"
          },
          "metadata": {}
        },
        {
          "output_type": "stream",
          "name": "stdout",
          "text": [
            "Class: bird, Noising Steps: 50\n"
          ]
        },
        {
          "output_type": "display_data",
          "data": {
            "text/plain": [
              "<PIL.Image.Image image mode=RGB size=128x128>"
            ],
            "image/png": "[encoded data removed]"
          },
          "metadata": {}
        },
        {
          "output_type": "stream",
          "name": "stdout",
          "text": [
            "Class: bird, Noising Steps: 10\n"
          ]
        },
        {
          "output_type": "display_data",
          "data": {
            "text/plain": [
              "<PIL.Image.Image image mode=RGB size=128x128>"
            ],
            "image/png": "[encoded data removed]"
          },
          "metadata": {}
        },
        {
          "output_type": "stream",
          "name": "stdout",
          "text": [
            "Class: bird, Noising Steps: 5\n"
          ]
        },
        {
          "output_type": "display_data",
          "data": {
            "text/plain": [
              "<PIL.Image.Image image mode=RGB size=128x128>"
            ],
            "image/png": "[encoded data removed]"
          },
          "metadata": {}
        },
        {
          "output_type": "stream",
          "name": "stdout",
          "text": [
            "Class: horse, Noising Steps: 50\n"
          ]
        },
        {
          "output_type": "display_data",
          "data": {
            "text/plain": [
              "<PIL.Image.Image image mode=RGB size=128x128>"
            ],
            "image/png": "[encoded data removed]"
          },
          "metadata": {}
        },
        {
          "output_type": "stream",
          "name": "stdout",
          "text": [
            "Class: horse, Noising Steps: 10\n"
          ]
        },
        {
          "output_type": "display_data",
          "data": {
            "text/plain": [
              "<PIL.Image.Image image mode=RGB size=128x128>"
            ],
            "image/png": "[encoded data removed]"
          },
          "metadata": {}
        },
        {
          "output_type": "stream",
          "name": "stdout",
          "text": [
            "Class: horse, Noising Steps: 5\n"
          ]
        },
        {
          "output_type": "display_data",
          "data": {
            "text/plain": [
              "<PIL.Image.Image image mode=RGB size=128x128>"
            ],
            "image/png": "[encoded data removed]"
          },
          "metadata": {}
        },
        {
          "output_type": "stream",
          "name": "stdout",
          "text": [
            "Class: automobile, Noising Steps: 50\n"
          ]
        },
        {
          "output_type": "display_data",
          "data": {
            "text/plain": [
              "<PIL.Image.Image image mode=RGB size=128x128>"
            ],
            "image/png": "[encoded data removed]"
          },
          "metadata": {}
        },
        {
          "output_type": "stream",
          "name": "stdout",
          "text": [
            "Class: automobile, Noising Steps: 10\n"
          ]
        },
        {
          "output_type": "display_data",
          "data": {
            "text/plain": [
              "<PIL.Image.Image image mode=RGB size=128x128>"
            ],
            "image/png": "[encoded data removed]"
          },
          "metadata": {}
        },
        {
          "output_type": "stream",
          "name": "stdout",
          "text": [
            "Class: automobile, Noising Steps: 5\n"
          ]
        },
        {
          "output_type": "display_data",
          "data": {
            "text/plain": [
              "<PIL.Image.Image image mode=RGB size=128x128>"
            ],
            "image/png": "[encoded data removed]"
          },
          "metadata": {}
        },
        {
          "output_type": "stream",
          "name": "stdout",
          "text": [
            "Class: deer, Noising Steps: 50\n"
          ]
        },
        {
          "output_type": "display_data",
          "data": {
            "text/plain": [
              "<PIL.Image.Image image mode=RGB size=128x128>"
            ],
            "image/png": "[encoded data removed]"
          },
          "metadata": {}
        },
        {
          "output_type": "stream",
          "name": "stdout",
          "text": [
            "Class: deer, Noising Steps: 10\n"
          ]
        },
        {
          "output_type": "display_data",
          "data": {
            "text/plain": [
              "<PIL.Image.Image image mode=RGB size=128x128>"
            ],
            "image/png": "[encoded data removed]"
          },
          "metadata": {}
        },
        {
          "output_type": "stream",
          "name": "stdout",
          "text": [
            "Class: deer, Noising Steps: 5\n"
          ]
        },
        {
          "output_type": "display_data",
          "data": {
            "text/plain": [
              "<PIL.Image.Image image mode=RGB size=128x128>"
            ],
            "image/png": "[encoded data removed]"
          },
          "metadata": {}
        },
        {
          "output_type": "stream",
          "name": "stdout",
          "text": [
            "Class: dog, Noising Steps: 50\n"
          ]
        },
        {
          "output_type": "display_data",
          "data": {
            "text/plain": [
              "<PIL.Image.Image image mode=RGB size=128x128>"
            ],
            "image/png": "[encoded data removed]"
          },
          "metadata": {}
        },
        {
          "output_type": "stream",
          "name": "stdout",
          "text": [
            "Class: dog, Noising Steps: 10\n"
          ]
        },
        {
          "output_type": "display_data",
          "data": {
            "text/plain": [
              "<PIL.Image.Image image mode=RGB size=128x128>"
            ],
            "image/png": "[encoded data removed]"
          },
          "metadata": {}
        },
        {
          "output_type": "stream",
          "name": "stdout",
          "text": [
            "Class: dog, Noising Steps: 5\n"
          ]
        },
        {
          "output_type": "display_data",
          "data": {
            "text/plain": [
              "<PIL.Image.Image image mode=RGB size=128x128>"
            ],
            "image/png": "[encoded data removed]"
          },
          "metadata": {}
        },
        {
          "output_type": "stream",
          "name": "stdout",
          "text": [
            "Class: cat, Noising Steps: 50\n"
          ]
        },
        {
          "output_type": "display_data",
          "data": {
            "text/plain": [
              "<PIL.Image.Image image mode=RGB size=128x128>"
            ],
            "image/png": "[encoded data removed]"
          },
          "metadata": {}
        },
        {
          "output_type": "stream",
          "name": "stdout",
          "text": [
            "Class: cat, Noising Steps: 10\n"
          ]
        },
        {
          "output_type": "display_data",
          "data": {
            "text/plain": [
              "<PIL.Image.Image image mode=RGB size=128x128>"
            ],
            "image/png": "[encoded data removed]"
          },
          "metadata": {}
        },
        {
          "output_type": "stream",
          "name": "stdout",
          "text": [
            "Class: cat, Noising Steps: 5\n"
          ]
        },
        {
          "output_type": "display_data",
          "data": {
            "text/plain": [
              "<PIL.Image.Image image mode=RGB size=128x128>"
            ],
            "image/png": "[encoded data removed]"
          },
          "metadata": {}
        },
        {
          "output_type": "stream",
          "name": "stdout",
          "text": [
            "Class: ship, Noising Steps: 50\n"
          ]
        },
        {
          "output_type": "display_data",
          "data": {
            "text/plain": [
              "<PIL.Image.Image image mode=RGB size=128x128>"
            ],
            "image/png": "[encoded data removed]"
          },
          "metadata": {}
        },
        {
          "output_type": "stream",
          "name": "stdout",
          "text": [
            "Class: ship, Noising Steps: 10\n"
          ]
        },
        {
          "output_type": "display_data",
          "data": {
            "text/plain": [
              "<PIL.Image.Image image mode=RGB size=128x128>"
            ],
            "image/png": "[encoded data removed]"
          },
          "metadata": {}
        },
        {
          "output_type": "stream",
          "name": "stdout",
          "text": [
            "Class: ship, Noising Steps: 5\n"
          ]
        },
        {
          "output_type": "display_data",
          "data": {
            "text/plain": [
              "<PIL.Image.Image image mode=RGB size=128x128>"
            ],
            "image/png": "[encoded data removed]"
          },
          "metadata": {}
        },
        {
          "output_type": "stream",
          "name": "stdout",
          "text": [
            "Class: truck, Noising Steps: 50\n"
          ]
        },
        {
          "output_type": "display_data",
          "data": {
            "text/plain": [
              "<PIL.Image.Image image mode=RGB size=128x128>"
            ],
            "image/png": "[encoded data removed]"
          },
          "metadata": {}
        },
        {
          "output_type": "stream",
          "name": "stdout",
          "text": [
            "Class: truck, Noising Steps: 10\n"
          ]
        },
        {
          "output_type": "display_data",
          "data": {
            "text/plain": [
              "<PIL.Image.Image image mode=RGB size=128x128>"
            ],
            "image/png": "[encoded data removed]"
          },
          "metadata": {}
        },
        {
          "output_type": "stream",
          "name": "stdout",
          "text": [
            "Class: truck, Noising Steps: 5\n"
          ]
        },
        {
          "output_type": "display_data",
          "data": {
            "text/plain": [
              "<PIL.Image.Image image mode=RGB size=128x128>"
            ],
            "image/png": "[encoded data removed]"
          },
          "metadata": {}
        }
      ]
    },
    {
      "cell_type": "markdown",
      "source": [
        "#Varying number of Noising Steps\n",
        "The above is the output for images from all the 10 classes of the CIFAR10 dataset with noising steps as 50, 10 and 5. Please note that the number of denoising steps is also the same as number of noising steps.\n",
        "\n",
        "It is much easier for the model to reconstruct images from lower number of noising steps. Since the model has not been entensively trained, it is hard for it generate the images from t = 50 and so the generated images are very blurry.\n",
        "\n",
        "Something of interest is if we increase the number of denosing steps while keeping the number of noising steps same. If an image which has been noised for only 5 iterations were to denoised for say 50 iterations, the images generated reduces a lot in quality, even getting worse than generated images from t = 50.\n",
        "\n",
        "The model works good for t = 10 but could not produce good images for t = 50."
      ],
      "metadata": {
        "id": "a5qJJQXBxY-m"
      }
    },
    {
      "cell_type": "code",
      "source": [
        "#@title Make and show 10 examples:\n",
        "x = torch.randn(10, 3, 32, 32).cuda() # Start with random noise\n",
        "ims = []\n",
        "for i in range(n_steps):\n",
        "  t = torch.tensor(n_steps-i-1, dtype=torch.long).cuda()\n",
        "  with torch.no_grad():\n",
        "    pred_noise = unet(x.float(), t.unsqueeze(0))\n",
        "    x = p_xt(x, pred_noise, t.unsqueeze(0))\n",
        "\n",
        "for i in range(10):\n",
        "  ims.append(tensor_to_image(x[i].unsqueeze(0).cpu()))\n",
        "\n",
        "image = Image.new('RGB', size=(32*5, 32*2))\n",
        "for i, im in enumerate(ims):\n",
        "  image.paste(im, ((i%5)*32, 32*(i//5)))\n",
        "image.resize((32*4*5, 32*4*2), Image.NEAREST)"
      ],
      "metadata": {
        "colab": {
          "base_uri": "https://localhost:8080/",
          "height": 273
        },
        "id": "WqtNFVaGRnif",
        "outputId": "a463db6c-45d2-4480-8e18-138f8900dce7",
        "cellView": "form"
      },
      "execution_count": 17,
      "outputs": [
        {
          "output_type": "execute_result",
          "data": {
            "text/plain": [
              "<PIL.Image.Image image mode=RGB size=640x256>"
            ],
            "image/png": "[encoded data removed]"
          },
          "metadata": {},
          "execution_count": 17
        }
      ]
    },
    {
      "cell_type": "code",
      "source": [
        "#@title Start with a heavily noised horse (t=50, top left = starting point):\n",
        "horse = cifar10['train'][4]['img']\n",
        "x0 = img_to_tensor(horse)\n",
        "x = torch.cat([q_xt_x0(x0.cuda(), torch.tensor(50, dtype=torch.long).cuda())[0] for _ in range(10)] )\n",
        "example_start = q_xt_x0(x0.cuda(), torch.tensor(50, dtype=torch.long).cuda())[0]\n",
        "print(x.shape)\n",
        "ims = []\n",
        "for i in range(50, n_steps):\n",
        "  t = torch.tensor(n_steps-i-1, dtype=torch.long).cuda()\n",
        "  with torch.no_grad():\n",
        "    pred_noise = unet(x.float(), t.unsqueeze(0))\n",
        "    x = p_xt(x, pred_noise, t.unsqueeze(0))\n",
        "\n",
        "for i in range(10):\n",
        "  ims.append(tensor_to_image(x[i].unsqueeze(0).cpu()))\n",
        "\n",
        "image = Image.new('RGB', size=(32*5, 32*2))\n",
        "for i, im in enumerate(ims):\n",
        "  image.paste(im, ((i%5)*32, 32*(i//5)))\n",
        "  if i==0:image.paste(tensor_to_image(example_start.unsqueeze(0).cpu()), ((i%5)*32, 32*(i//5))) # Show the heavily noised starting point top left\n",
        "image.resize((32*4*5, 32*4*2), Image.NEAREST)"
      ],
      "metadata": {
        "colab": {
          "base_uri": "https://localhost:8080/",
          "height": 290
        },
        "id": "WbZlPL2hSjjA",
        "outputId": "f203b4e5-5810-4bd4-cf08-ec2f73e31691",
        "cellView": "form"
      },
      "execution_count": 15,
      "outputs": [
        {
          "output_type": "stream",
          "name": "stdout",
          "text": [
            "torch.Size([10, 3, 32, 32])\n"
          ]
        },
        {
          "output_type": "execute_result",
          "data": {
            "text/plain": [
              "<PIL.Image.Image image mode=RGB size=640x256>"
            ],
            "image/png": "[encoded data removed]"
          },
          "metadata": {},
          "execution_count": 15
        }
      ]
    }
  ]
}